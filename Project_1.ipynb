{
  "nbformat": 4,
  "nbformat_minor": 0,
  "metadata": {
    "colab": {
      "provenance": [],
      "authorship_tag": "ABX9TyN4cvMGgg7t8U+NLMoES6HI",
      "include_colab_link": true
    },
    "kernelspec": {
      "name": "python3",
      "display_name": "Python 3"
    },
    "language_info": {
      "name": "python"
    }
  },
  "cells": [
    {
      "cell_type": "markdown",
      "metadata": {
        "id": "view-in-github",
        "colab_type": "text"
      },
      "source": [
        "<a href=\"https://colab.research.google.com/github/Darkling-01/Airbnb-Machine-Learning/blob/main/Project_1.ipynb\" target=\"_parent\"><img src=\"https://colab.research.google.com/assets/colab-badge.svg\" alt=\"Open In Colab\"/></a>"
      ]
    },
    {
      "cell_type": "markdown",
      "source": [
        "This project is for Machine Learning CSE5160"
      ],
      "metadata": {
        "id": "62KGNWbEwZHy"
      }
    },
    {
      "cell_type": "code",
      "execution_count": 4,
      "metadata": {
        "id": "RoFOTrISwYdn",
        "colab": {
          "base_uri": "https://localhost:8080/"
        },
        "outputId": "9a3fe212-4b49-420e-8671-a8da331c5340"
      },
      "outputs": [
        {
          "output_type": "stream",
          "name": "stdout",
          "text": [
            "SETUP COMPLETE...\n"
          ]
        }
      ],
      "source": [
        "import pandas as pd\n",
        "import numpy as np\n",
        "import matplotlib.pyplot as plt\n",
        "import seaborn as sns\n",
        "import math\n",
        "\n",
        "from google.colab import files\n",
        "\n",
        "print(\"SETUP COMPLETE...\")"
      ]
    },
    {
      "cell_type": "code",
      "source": [
        "from google.colab import drive\n",
        "drive.mount('/content/drive', force_remount=True)"
      ],
      "metadata": {
        "colab": {
          "base_uri": "https://localhost:8080/"
        },
        "id": "RAAHoFf49jnO",
        "outputId": "2bdf59ed-09c7-4ea1-853a-91e2148c2e96"
      },
      "execution_count": 2,
      "outputs": [
        {
          "output_type": "stream",
          "name": "stdout",
          "text": [
            "Mounted at /content/drive\n"
          ]
        }
      ]
    },
    {
      "cell_type": "code",
      "source": [
        "dataset = pd.read_csv('/content/drive/MyDrive/Colab Notebooks/airbnb_data.csv')\n",
        "dataset"
      ],
      "metadata": {
        "colab": {
          "base_uri": "https://localhost:8080/",
          "height": 887
        },
        "id": "7_qyXUhXSA6f",
        "outputId": "de2ffec9-7d38-47b4-a7d4-8b83ea0df7f3"
      },
      "execution_count": 53,
      "outputs": [
        {
          "output_type": "execute_result",
          "data": {
            "text/plain": [
              "             id  log_price property_type        room_type  \\\n",
              "0       6901257   5.010635     Apartment  Entire home/apt   \n",
              "1       6304928   5.129899     Apartment  Entire home/apt   \n",
              "2       7919400   4.976734     Apartment  Entire home/apt   \n",
              "3      13418779   6.620073         House  Entire home/apt   \n",
              "4       3808709   4.744932     Apartment  Entire home/apt   \n",
              "...         ...        ...           ...              ...   \n",
              "74106  14549287   4.605170     Apartment     Private room   \n",
              "74107  13281809   5.043425     Apartment  Entire home/apt   \n",
              "74108  18688039   5.220356     Apartment  Entire home/apt   \n",
              "74109  17045948   5.273000     Apartment  Entire home/apt   \n",
              "74110   3534845   4.852030          Boat  Entire home/apt   \n",
              "\n",
              "                                               amenities  accommodates  \\\n",
              "0      {\"Wireless Internet\",\"Air conditioning\",Kitche...             3   \n",
              "1      {\"Wireless Internet\",\"Air conditioning\",Kitche...             7   \n",
              "2      {TV,\"Cable TV\",\"Wireless Internet\",\"Air condit...             5   \n",
              "3      {TV,\"Cable TV\",Internet,\"Wireless Internet\",Ki...             4   \n",
              "4      {TV,Internet,\"Wireless Internet\",\"Air conditio...             2   \n",
              "...                                                  ...           ...   \n",
              "74106                                                 {}             1   \n",
              "74107  {TV,\"Cable TV\",Internet,\"Wireless Internet\",Ki...             4   \n",
              "74108  {TV,Internet,\"Wireless Internet\",\"Air conditio...             5   \n",
              "74109  {TV,\"Wireless Internet\",\"Air conditioning\",Kit...             2   \n",
              "74110  {TV,Internet,\"Wireless Internet\",Kitchen,\"Free...             4   \n",
              "\n",
              "       bathrooms  bed_type cancellation_policy  cleaning_fee  ...   latitude  \\\n",
              "0            1.0  Real Bed              strict          True  ...  40.696524   \n",
              "1            1.0  Real Bed              strict          True  ...  40.766115   \n",
              "2            1.0  Real Bed            moderate          True  ...  40.808110   \n",
              "3            1.0  Real Bed            flexible          True  ...  37.772004   \n",
              "4            1.0  Real Bed            moderate          True  ...  38.925627   \n",
              "...          ...       ...                 ...           ...  ...        ...   \n",
              "74106        1.0  Real Bed            flexible         False  ...  40.709025   \n",
              "74107        2.0  Real Bed            moderate          True  ...  33.871549   \n",
              "74108        1.0  Real Bed            moderate          True  ...  40.706749   \n",
              "74109        1.0  Real Bed              strict          True  ...  40.738535   \n",
              "74110        1.0  Real Bed            moderate         False  ...  33.761096   \n",
              "\n",
              "        longitude                                        name  \\\n",
              "0      -73.991617              Beautiful brownstone 1-bedroom   \n",
              "1      -73.989040    Superb 3BR Apt Located Near Times Square   \n",
              "2      -73.943756                            The Garden Oasis   \n",
              "3     -122.431619          Beautiful Flat in the Heart of SF!   \n",
              "4      -77.034596                  Great studio in midtown DC   \n",
              "...           ...                                         ...   \n",
              "74106  -73.939405                           one room bushwick   \n",
              "74107 -118.396053                Spacious Hermosa 2 BR on PCH   \n",
              "74108  -73.942377  Modern 2 Bedroom Apartment in Williamsburg   \n",
              "74109  -74.000157        Designer's Apartment in HEART of NYC   \n",
              "74110 -118.192409              Cozy Boat at Shoreline Village   \n",
              "\n",
              "          neighbourhood number_of_reviews review_scores_rating  \\\n",
              "0      Brooklyn Heights                 2                100.0   \n",
              "1        Hell's Kitchen                 6                 93.0   \n",
              "2                Harlem                10                 92.0   \n",
              "3          Lower Haight                 0                  NaN   \n",
              "4      Columbia Heights                 4                 40.0   \n",
              "...                 ...               ...                  ...   \n",
              "74106      Williamsburg                 0                  NaN   \n",
              "74107     Hermosa Beach                16                 93.0   \n",
              "74108      Williamsburg                43                 94.0   \n",
              "74109      West Village                 0                  NaN   \n",
              "74110        Long Beach               205                 96.0   \n",
              "\n",
              "                                           thumbnail_url  zipcode bedrooms  \\\n",
              "0      https://a0.muscache.com/im/pictures/6d7cbbf7-c...    11201      1.0   \n",
              "1      https://a0.muscache.com/im/pictures/348a55fe-4...    10019      3.0   \n",
              "2      https://a0.muscache.com/im/pictures/6fae5362-9...    10027      1.0   \n",
              "3      https://a0.muscache.com/im/pictures/72208dad-9...  94117.0      2.0   \n",
              "4                                                    NaN    20009      0.0   \n",
              "...                                                  ...      ...      ...   \n",
              "74106  https://a0.muscache.com/im/pictures/55162426/6...  11206.0      1.0   \n",
              "74107  https://a0.muscache.com/im/pictures/2b86560b-a...    90254      2.0   \n",
              "74108  https://a0.muscache.com/im/pictures/7fbe448c-5...  11206.0      2.0   \n",
              "74109  https://a0.muscache.com/im/pictures/b3971b63-0...    10011      0.0   \n",
              "74110  https://a0.muscache.com/im/pictures/22968537/d...    90802      1.0   \n",
              "\n",
              "       beds  \n",
              "0       1.0  \n",
              "1       3.0  \n",
              "2       3.0  \n",
              "3       2.0  \n",
              "4       1.0  \n",
              "...     ...  \n",
              "74106   1.0  \n",
              "74107   4.0  \n",
              "74108   2.0  \n",
              "74109   2.0  \n",
              "74110   2.0  \n",
              "\n",
              "[74111 rows x 29 columns]"
            ],
            "text/html": [
              "\n",
              "  <div id=\"df-657b580e-99f9-498c-a342-d5f2a5eabc60\">\n",
              "    <div class=\"colab-df-container\">\n",
              "      <div>\n",
              "<style scoped>\n",
              "    .dataframe tbody tr th:only-of-type {\n",
              "        vertical-align: middle;\n",
              "    }\n",
              "\n",
              "    .dataframe tbody tr th {\n",
              "        vertical-align: top;\n",
              "    }\n",
              "\n",
              "    .dataframe thead th {\n",
              "        text-align: right;\n",
              "    }\n",
              "</style>\n",
              "<table border=\"1\" class=\"dataframe\">\n",
              "  <thead>\n",
              "    <tr style=\"text-align: right;\">\n",
              "      <th></th>\n",
              "      <th>id</th>\n",
              "      <th>log_price</th>\n",
              "      <th>property_type</th>\n",
              "      <th>room_type</th>\n",
              "      <th>amenities</th>\n",
              "      <th>accommodates</th>\n",
              "      <th>bathrooms</th>\n",
              "      <th>bed_type</th>\n",
              "      <th>cancellation_policy</th>\n",
              "      <th>cleaning_fee</th>\n",
              "      <th>...</th>\n",
              "      <th>latitude</th>\n",
              "      <th>longitude</th>\n",
              "      <th>name</th>\n",
              "      <th>neighbourhood</th>\n",
              "      <th>number_of_reviews</th>\n",
              "      <th>review_scores_rating</th>\n",
              "      <th>thumbnail_url</th>\n",
              "      <th>zipcode</th>\n",
              "      <th>bedrooms</th>\n",
              "      <th>beds</th>\n",
              "    </tr>\n",
              "  </thead>\n",
              "  <tbody>\n",
              "    <tr>\n",
              "      <th>0</th>\n",
              "      <td>6901257</td>\n",
              "      <td>5.010635</td>\n",
              "      <td>Apartment</td>\n",
              "      <td>Entire home/apt</td>\n",
              "      <td>{\"Wireless Internet\",\"Air conditioning\",Kitche...</td>\n",
              "      <td>3</td>\n",
              "      <td>1.0</td>\n",
              "      <td>Real Bed</td>\n",
              "      <td>strict</td>\n",
              "      <td>True</td>\n",
              "      <td>...</td>\n",
              "      <td>40.696524</td>\n",
              "      <td>-73.991617</td>\n",
              "      <td>Beautiful brownstone 1-bedroom</td>\n",
              "      <td>Brooklyn Heights</td>\n",
              "      <td>2</td>\n",
              "      <td>100.0</td>\n",
              "      <td>https://a0.muscache.com/im/pictures/6d7cbbf7-c...</td>\n",
              "      <td>11201</td>\n",
              "      <td>1.0</td>\n",
              "      <td>1.0</td>\n",
              "    </tr>\n",
              "    <tr>\n",
              "      <th>1</th>\n",
              "      <td>6304928</td>\n",
              "      <td>5.129899</td>\n",
              "      <td>Apartment</td>\n",
              "      <td>Entire home/apt</td>\n",
              "      <td>{\"Wireless Internet\",\"Air conditioning\",Kitche...</td>\n",
              "      <td>7</td>\n",
              "      <td>1.0</td>\n",
              "      <td>Real Bed</td>\n",
              "      <td>strict</td>\n",
              "      <td>True</td>\n",
              "      <td>...</td>\n",
              "      <td>40.766115</td>\n",
              "      <td>-73.989040</td>\n",
              "      <td>Superb 3BR Apt Located Near Times Square</td>\n",
              "      <td>Hell's Kitchen</td>\n",
              "      <td>6</td>\n",
              "      <td>93.0</td>\n",
              "      <td>https://a0.muscache.com/im/pictures/348a55fe-4...</td>\n",
              "      <td>10019</td>\n",
              "      <td>3.0</td>\n",
              "      <td>3.0</td>\n",
              "    </tr>\n",
              "    <tr>\n",
              "      <th>2</th>\n",
              "      <td>7919400</td>\n",
              "      <td>4.976734</td>\n",
              "      <td>Apartment</td>\n",
              "      <td>Entire home/apt</td>\n",
              "      <td>{TV,\"Cable TV\",\"Wireless Internet\",\"Air condit...</td>\n",
              "      <td>5</td>\n",
              "      <td>1.0</td>\n",
              "      <td>Real Bed</td>\n",
              "      <td>moderate</td>\n",
              "      <td>True</td>\n",
              "      <td>...</td>\n",
              "      <td>40.808110</td>\n",
              "      <td>-73.943756</td>\n",
              "      <td>The Garden Oasis</td>\n",
              "      <td>Harlem</td>\n",
              "      <td>10</td>\n",
              "      <td>92.0</td>\n",
              "      <td>https://a0.muscache.com/im/pictures/6fae5362-9...</td>\n",
              "      <td>10027</td>\n",
              "      <td>1.0</td>\n",
              "      <td>3.0</td>\n",
              "    </tr>\n",
              "    <tr>\n",
              "      <th>3</th>\n",
              "      <td>13418779</td>\n",
              "      <td>6.620073</td>\n",
              "      <td>House</td>\n",
              "      <td>Entire home/apt</td>\n",
              "      <td>{TV,\"Cable TV\",Internet,\"Wireless Internet\",Ki...</td>\n",
              "      <td>4</td>\n",
              "      <td>1.0</td>\n",
              "      <td>Real Bed</td>\n",
              "      <td>flexible</td>\n",
              "      <td>True</td>\n",
              "      <td>...</td>\n",
              "      <td>37.772004</td>\n",
              "      <td>-122.431619</td>\n",
              "      <td>Beautiful Flat in the Heart of SF!</td>\n",
              "      <td>Lower Haight</td>\n",
              "      <td>0</td>\n",
              "      <td>NaN</td>\n",
              "      <td>https://a0.muscache.com/im/pictures/72208dad-9...</td>\n",
              "      <td>94117.0</td>\n",
              "      <td>2.0</td>\n",
              "      <td>2.0</td>\n",
              "    </tr>\n",
              "    <tr>\n",
              "      <th>4</th>\n",
              "      <td>3808709</td>\n",
              "      <td>4.744932</td>\n",
              "      <td>Apartment</td>\n",
              "      <td>Entire home/apt</td>\n",
              "      <td>{TV,Internet,\"Wireless Internet\",\"Air conditio...</td>\n",
              "      <td>2</td>\n",
              "      <td>1.0</td>\n",
              "      <td>Real Bed</td>\n",
              "      <td>moderate</td>\n",
              "      <td>True</td>\n",
              "      <td>...</td>\n",
              "      <td>38.925627</td>\n",
              "      <td>-77.034596</td>\n",
              "      <td>Great studio in midtown DC</td>\n",
              "      <td>Columbia Heights</td>\n",
              "      <td>4</td>\n",
              "      <td>40.0</td>\n",
              "      <td>NaN</td>\n",
              "      <td>20009</td>\n",
              "      <td>0.0</td>\n",
              "      <td>1.0</td>\n",
              "    </tr>\n",
              "    <tr>\n",
              "      <th>...</th>\n",
              "      <td>...</td>\n",
              "      <td>...</td>\n",
              "      <td>...</td>\n",
              "      <td>...</td>\n",
              "      <td>...</td>\n",
              "      <td>...</td>\n",
              "      <td>...</td>\n",
              "      <td>...</td>\n",
              "      <td>...</td>\n",
              "      <td>...</td>\n",
              "      <td>...</td>\n",
              "      <td>...</td>\n",
              "      <td>...</td>\n",
              "      <td>...</td>\n",
              "      <td>...</td>\n",
              "      <td>...</td>\n",
              "      <td>...</td>\n",
              "      <td>...</td>\n",
              "      <td>...</td>\n",
              "      <td>...</td>\n",
              "      <td>...</td>\n",
              "    </tr>\n",
              "    <tr>\n",
              "      <th>74106</th>\n",
              "      <td>14549287</td>\n",
              "      <td>4.605170</td>\n",
              "      <td>Apartment</td>\n",
              "      <td>Private room</td>\n",
              "      <td>{}</td>\n",
              "      <td>1</td>\n",
              "      <td>1.0</td>\n",
              "      <td>Real Bed</td>\n",
              "      <td>flexible</td>\n",
              "      <td>False</td>\n",
              "      <td>...</td>\n",
              "      <td>40.709025</td>\n",
              "      <td>-73.939405</td>\n",
              "      <td>one room bushwick</td>\n",
              "      <td>Williamsburg</td>\n",
              "      <td>0</td>\n",
              "      <td>NaN</td>\n",
              "      <td>https://a0.muscache.com/im/pictures/55162426/6...</td>\n",
              "      <td>11206.0</td>\n",
              "      <td>1.0</td>\n",
              "      <td>1.0</td>\n",
              "    </tr>\n",
              "    <tr>\n",
              "      <th>74107</th>\n",
              "      <td>13281809</td>\n",
              "      <td>5.043425</td>\n",
              "      <td>Apartment</td>\n",
              "      <td>Entire home/apt</td>\n",
              "      <td>{TV,\"Cable TV\",Internet,\"Wireless Internet\",Ki...</td>\n",
              "      <td>4</td>\n",
              "      <td>2.0</td>\n",
              "      <td>Real Bed</td>\n",
              "      <td>moderate</td>\n",
              "      <td>True</td>\n",
              "      <td>...</td>\n",
              "      <td>33.871549</td>\n",
              "      <td>-118.396053</td>\n",
              "      <td>Spacious Hermosa 2 BR on PCH</td>\n",
              "      <td>Hermosa Beach</td>\n",
              "      <td>16</td>\n",
              "      <td>93.0</td>\n",
              "      <td>https://a0.muscache.com/im/pictures/2b86560b-a...</td>\n",
              "      <td>90254</td>\n",
              "      <td>2.0</td>\n",
              "      <td>4.0</td>\n",
              "    </tr>\n",
              "    <tr>\n",
              "      <th>74108</th>\n",
              "      <td>18688039</td>\n",
              "      <td>5.220356</td>\n",
              "      <td>Apartment</td>\n",
              "      <td>Entire home/apt</td>\n",
              "      <td>{TV,Internet,\"Wireless Internet\",\"Air conditio...</td>\n",
              "      <td>5</td>\n",
              "      <td>1.0</td>\n",
              "      <td>Real Bed</td>\n",
              "      <td>moderate</td>\n",
              "      <td>True</td>\n",
              "      <td>...</td>\n",
              "      <td>40.706749</td>\n",
              "      <td>-73.942377</td>\n",
              "      <td>Modern 2 Bedroom Apartment in Williamsburg</td>\n",
              "      <td>Williamsburg</td>\n",
              "      <td>43</td>\n",
              "      <td>94.0</td>\n",
              "      <td>https://a0.muscache.com/im/pictures/7fbe448c-5...</td>\n",
              "      <td>11206.0</td>\n",
              "      <td>2.0</td>\n",
              "      <td>2.0</td>\n",
              "    </tr>\n",
              "    <tr>\n",
              "      <th>74109</th>\n",
              "      <td>17045948</td>\n",
              "      <td>5.273000</td>\n",
              "      <td>Apartment</td>\n",
              "      <td>Entire home/apt</td>\n",
              "      <td>{TV,\"Wireless Internet\",\"Air conditioning\",Kit...</td>\n",
              "      <td>2</td>\n",
              "      <td>1.0</td>\n",
              "      <td>Real Bed</td>\n",
              "      <td>strict</td>\n",
              "      <td>True</td>\n",
              "      <td>...</td>\n",
              "      <td>40.738535</td>\n",
              "      <td>-74.000157</td>\n",
              "      <td>Designer's Apartment in HEART of NYC</td>\n",
              "      <td>West Village</td>\n",
              "      <td>0</td>\n",
              "      <td>NaN</td>\n",
              "      <td>https://a0.muscache.com/im/pictures/b3971b63-0...</td>\n",
              "      <td>10011</td>\n",
              "      <td>0.0</td>\n",
              "      <td>2.0</td>\n",
              "    </tr>\n",
              "    <tr>\n",
              "      <th>74110</th>\n",
              "      <td>3534845</td>\n",
              "      <td>4.852030</td>\n",
              "      <td>Boat</td>\n",
              "      <td>Entire home/apt</td>\n",
              "      <td>{TV,Internet,\"Wireless Internet\",Kitchen,\"Free...</td>\n",
              "      <td>4</td>\n",
              "      <td>1.0</td>\n",
              "      <td>Real Bed</td>\n",
              "      <td>moderate</td>\n",
              "      <td>False</td>\n",
              "      <td>...</td>\n",
              "      <td>33.761096</td>\n",
              "      <td>-118.192409</td>\n",
              "      <td>Cozy Boat at Shoreline Village</td>\n",
              "      <td>Long Beach</td>\n",
              "      <td>205</td>\n",
              "      <td>96.0</td>\n",
              "      <td>https://a0.muscache.com/im/pictures/22968537/d...</td>\n",
              "      <td>90802</td>\n",
              "      <td>1.0</td>\n",
              "      <td>2.0</td>\n",
              "    </tr>\n",
              "  </tbody>\n",
              "</table>\n",
              "<p>74111 rows × 29 columns</p>\n",
              "</div>\n",
              "      <button class=\"colab-df-convert\" onclick=\"convertToInteractive('df-657b580e-99f9-498c-a342-d5f2a5eabc60')\"\n",
              "              title=\"Convert this dataframe to an interactive table.\"\n",
              "              style=\"display:none;\">\n",
              "        \n",
              "  <svg xmlns=\"http://www.w3.org/2000/svg\" height=\"24px\"viewBox=\"0 0 24 24\"\n",
              "       width=\"24px\">\n",
              "    <path d=\"M0 0h24v24H0V0z\" fill=\"none\"/>\n",
              "    <path d=\"M18.56 5.44l.94 2.06.94-2.06 2.06-.94-2.06-.94-.94-2.06-.94 2.06-2.06.94zm-11 1L8.5 8.5l.94-2.06 2.06-.94-2.06-.94L8.5 2.5l-.94 2.06-2.06.94zm10 10l.94 2.06.94-2.06 2.06-.94-2.06-.94-.94-2.06-.94 2.06-2.06.94z\"/><path d=\"M17.41 7.96l-1.37-1.37c-.4-.4-.92-.59-1.43-.59-.52 0-1.04.2-1.43.59L10.3 9.45l-7.72 7.72c-.78.78-.78 2.05 0 2.83L4 21.41c.39.39.9.59 1.41.59.51 0 1.02-.2 1.41-.59l7.78-7.78 2.81-2.81c.8-.78.8-2.07 0-2.86zM5.41 20L4 18.59l7.72-7.72 1.47 1.35L5.41 20z\"/>\n",
              "  </svg>\n",
              "      </button>\n",
              "      \n",
              "  <style>\n",
              "    .colab-df-container {\n",
              "      display:flex;\n",
              "      flex-wrap:wrap;\n",
              "      gap: 12px;\n",
              "    }\n",
              "\n",
              "    .colab-df-convert {\n",
              "      background-color: #E8F0FE;\n",
              "      border: none;\n",
              "      border-radius: 50%;\n",
              "      cursor: pointer;\n",
              "      display: none;\n",
              "      fill: #1967D2;\n",
              "      height: 32px;\n",
              "      padding: 0 0 0 0;\n",
              "      width: 32px;\n",
              "    }\n",
              "\n",
              "    .colab-df-convert:hover {\n",
              "      background-color: #E2EBFA;\n",
              "      box-shadow: 0px 1px 2px rgba(60, 64, 67, 0.3), 0px 1px 3px 1px rgba(60, 64, 67, 0.15);\n",
              "      fill: #174EA6;\n",
              "    }\n",
              "\n",
              "    [theme=dark] .colab-df-convert {\n",
              "      background-color: #3B4455;\n",
              "      fill: #D2E3FC;\n",
              "    }\n",
              "\n",
              "    [theme=dark] .colab-df-convert:hover {\n",
              "      background-color: #434B5C;\n",
              "      box-shadow: 0px 1px 3px 1px rgba(0, 0, 0, 0.15);\n",
              "      filter: drop-shadow(0px 1px 2px rgba(0, 0, 0, 0.3));\n",
              "      fill: #FFFFFF;\n",
              "    }\n",
              "  </style>\n",
              "\n",
              "      <script>\n",
              "        const buttonEl =\n",
              "          document.querySelector('#df-657b580e-99f9-498c-a342-d5f2a5eabc60 button.colab-df-convert');\n",
              "        buttonEl.style.display =\n",
              "          google.colab.kernel.accessAllowed ? 'block' : 'none';\n",
              "\n",
              "        async function convertToInteractive(key) {\n",
              "          const element = document.querySelector('#df-657b580e-99f9-498c-a342-d5f2a5eabc60');\n",
              "          const dataTable =\n",
              "            await google.colab.kernel.invokeFunction('convertToInteractive',\n",
              "                                                     [key], {});\n",
              "          if (!dataTable) return;\n",
              "\n",
              "          const docLinkHtml = 'Like what you see? Visit the ' +\n",
              "            '<a target=\"_blank\" href=https://colab.research.google.com/notebooks/data_table.ipynb>data table notebook</a>'\n",
              "            + ' to learn more about interactive tables.';\n",
              "          element.innerHTML = '';\n",
              "          dataTable['output_type'] = 'display_data';\n",
              "          await google.colab.output.renderOutput(dataTable, element);\n",
              "          const docLink = document.createElement('div');\n",
              "          docLink.innerHTML = docLinkHtml;\n",
              "          element.appendChild(docLink);\n",
              "        }\n",
              "      </script>\n",
              "    </div>\n",
              "  </div>\n",
              "  "
            ]
          },
          "metadata": {},
          "execution_count": 53
        }
      ]
    },
    {
      "cell_type": "code",
      "source": [
        "print('Number of rows in the dataframe:', dataset.shape[0])\n",
        "print('Number of columns in the dataframe:', dataset.shape[1])"
      ],
      "metadata": {
        "colab": {
          "base_uri": "https://localhost:8080/"
        },
        "id": "IWHlSQzHjb2D",
        "outputId": "22c8e077-50f5-496d-b063-5770b04d2da8"
      },
      "execution_count": 6,
      "outputs": [
        {
          "output_type": "stream",
          "name": "stdout",
          "text": [
            "Number of rows in the dataframe: 74111\n",
            "Number of columns in the dataframe: 29\n"
          ]
        }
      ]
    },
    {
      "cell_type": "code",
      "source": [
        "dataset.columns"
      ],
      "metadata": {
        "id": "dn-ddFkTTI9y",
        "colab": {
          "base_uri": "https://localhost:8080/"
        },
        "outputId": "10d9dc0b-98ea-42e1-ca34-aef10fd992ad"
      },
      "execution_count": 8,
      "outputs": [
        {
          "output_type": "execute_result",
          "data": {
            "text/plain": [
              "Index(['id', 'log_price', 'property_type', 'room_type', 'amenities',\n",
              "       'accommodates', 'bathrooms', 'bed_type', 'cancellation_policy',\n",
              "       'cleaning_fee', 'city', 'description', 'first_review',\n",
              "       'host_has_profile_pic', 'host_identity_verified', 'host_response_rate',\n",
              "       'host_since', 'instant_bookable', 'last_review', 'latitude',\n",
              "       'longitude', 'name', 'neighbourhood', 'number_of_reviews',\n",
              "       'review_scores_rating', 'thumbnail_url', 'zipcode', 'bedrooms', 'beds'],\n",
              "      dtype='object')"
            ]
          },
          "metadata": {},
          "execution_count": 8
        }
      ]
    },
    {
      "cell_type": "code",
      "source": [
        "#finding attitional info about our data\n",
        "dataset.info()"
      ],
      "metadata": {
        "colab": {
          "base_uri": "https://localhost:8080/"
        },
        "id": "fIT81cFECeac",
        "outputId": "7d273659-1344-4fdd-cd80-4401913a6e9a"
      },
      "execution_count": 9,
      "outputs": [
        {
          "output_type": "stream",
          "name": "stdout",
          "text": [
            "<class 'pandas.core.frame.DataFrame'>\n",
            "RangeIndex: 74111 entries, 0 to 74110\n",
            "Data columns (total 29 columns):\n",
            " #   Column                  Non-Null Count  Dtype  \n",
            "---  ------                  --------------  -----  \n",
            " 0   id                      74111 non-null  int64  \n",
            " 1   log_price               74111 non-null  float64\n",
            " 2   property_type           74111 non-null  object \n",
            " 3   room_type               74111 non-null  object \n",
            " 4   amenities               74111 non-null  object \n",
            " 5   accommodates            74111 non-null  int64  \n",
            " 6   bathrooms               73911 non-null  float64\n",
            " 7   bed_type                74111 non-null  object \n",
            " 8   cancellation_policy     74111 non-null  object \n",
            " 9   cleaning_fee            74111 non-null  bool   \n",
            " 10  city                    74111 non-null  object \n",
            " 11  description             74111 non-null  object \n",
            " 12  first_review            58247 non-null  object \n",
            " 13  host_has_profile_pic    73923 non-null  object \n",
            " 14  host_identity_verified  73923 non-null  object \n",
            " 15  host_response_rate      55812 non-null  object \n",
            " 16  host_since              73923 non-null  object \n",
            " 17  instant_bookable        74111 non-null  object \n",
            " 18  last_review             58284 non-null  object \n",
            " 19  latitude                74111 non-null  float64\n",
            " 20  longitude               74111 non-null  float64\n",
            " 21  name                    74111 non-null  object \n",
            " 22  neighbourhood           67239 non-null  object \n",
            " 23  number_of_reviews       74111 non-null  int64  \n",
            " 24  review_scores_rating    57389 non-null  float64\n",
            " 25  thumbnail_url           65895 non-null  object \n",
            " 26  zipcode                 73145 non-null  object \n",
            " 27  bedrooms                74020 non-null  float64\n",
            " 28  beds                    73980 non-null  float64\n",
            "dtypes: bool(1), float64(7), int64(3), object(18)\n",
            "memory usage: 15.9+ MB\n"
          ]
        }
      ]
    },
    {
      "cell_type": "code",
      "source": [],
      "metadata": {
        "id": "OltW1cY_AJ3o"
      },
      "execution_count": 206,
      "outputs": []
    },
    {
      "cell_type": "code",
      "source": [
        "#selecting features that I will be using for the model\n",
        "data = dataset[['log_price', 'id', 'review_scores_rating', 'number_of_reviews', 'accommodates', 'bathrooms']]\n",
        "data.head()"
      ],
      "metadata": {
        "colab": {
          "base_uri": "https://localhost:8080/",
          "height": 206
        },
        "id": "Nd6xsdsOvl7S",
        "outputId": "492f9dcb-599a-4312-f266-05fc82ce6e72"
      },
      "execution_count": 10,
      "outputs": [
        {
          "output_type": "execute_result",
          "data": {
            "text/plain": [
              "   log_price        id  review_scores_rating  number_of_reviews  accommodates  \\\n",
              "0   5.010635   6901257                 100.0                  2             3   \n",
              "1   5.129899   6304928                  93.0                  6             7   \n",
              "2   4.976734   7919400                  92.0                 10             5   \n",
              "3   6.620073  13418779                   NaN                  0             4   \n",
              "4   4.744932   3808709                  40.0                  4             2   \n",
              "\n",
              "   bathrooms  \n",
              "0        1.0  \n",
              "1        1.0  \n",
              "2        1.0  \n",
              "3        1.0  \n",
              "4        1.0  "
            ],
            "text/html": [
              "\n",
              "  <div id=\"df-de697d23-2838-4f11-85e1-857abf68f082\">\n",
              "    <div class=\"colab-df-container\">\n",
              "      <div>\n",
              "<style scoped>\n",
              "    .dataframe tbody tr th:only-of-type {\n",
              "        vertical-align: middle;\n",
              "    }\n",
              "\n",
              "    .dataframe tbody tr th {\n",
              "        vertical-align: top;\n",
              "    }\n",
              "\n",
              "    .dataframe thead th {\n",
              "        text-align: right;\n",
              "    }\n",
              "</style>\n",
              "<table border=\"1\" class=\"dataframe\">\n",
              "  <thead>\n",
              "    <tr style=\"text-align: right;\">\n",
              "      <th></th>\n",
              "      <th>log_price</th>\n",
              "      <th>id</th>\n",
              "      <th>review_scores_rating</th>\n",
              "      <th>number_of_reviews</th>\n",
              "      <th>accommodates</th>\n",
              "      <th>bathrooms</th>\n",
              "    </tr>\n",
              "  </thead>\n",
              "  <tbody>\n",
              "    <tr>\n",
              "      <th>0</th>\n",
              "      <td>5.010635</td>\n",
              "      <td>6901257</td>\n",
              "      <td>100.0</td>\n",
              "      <td>2</td>\n",
              "      <td>3</td>\n",
              "      <td>1.0</td>\n",
              "    </tr>\n",
              "    <tr>\n",
              "      <th>1</th>\n",
              "      <td>5.129899</td>\n",
              "      <td>6304928</td>\n",
              "      <td>93.0</td>\n",
              "      <td>6</td>\n",
              "      <td>7</td>\n",
              "      <td>1.0</td>\n",
              "    </tr>\n",
              "    <tr>\n",
              "      <th>2</th>\n",
              "      <td>4.976734</td>\n",
              "      <td>7919400</td>\n",
              "      <td>92.0</td>\n",
              "      <td>10</td>\n",
              "      <td>5</td>\n",
              "      <td>1.0</td>\n",
              "    </tr>\n",
              "    <tr>\n",
              "      <th>3</th>\n",
              "      <td>6.620073</td>\n",
              "      <td>13418779</td>\n",
              "      <td>NaN</td>\n",
              "      <td>0</td>\n",
              "      <td>4</td>\n",
              "      <td>1.0</td>\n",
              "    </tr>\n",
              "    <tr>\n",
              "      <th>4</th>\n",
              "      <td>4.744932</td>\n",
              "      <td>3808709</td>\n",
              "      <td>40.0</td>\n",
              "      <td>4</td>\n",
              "      <td>2</td>\n",
              "      <td>1.0</td>\n",
              "    </tr>\n",
              "  </tbody>\n",
              "</table>\n",
              "</div>\n",
              "      <button class=\"colab-df-convert\" onclick=\"convertToInteractive('df-de697d23-2838-4f11-85e1-857abf68f082')\"\n",
              "              title=\"Convert this dataframe to an interactive table.\"\n",
              "              style=\"display:none;\">\n",
              "        \n",
              "  <svg xmlns=\"http://www.w3.org/2000/svg\" height=\"24px\"viewBox=\"0 0 24 24\"\n",
              "       width=\"24px\">\n",
              "    <path d=\"M0 0h24v24H0V0z\" fill=\"none\"/>\n",
              "    <path d=\"M18.56 5.44l.94 2.06.94-2.06 2.06-.94-2.06-.94-.94-2.06-.94 2.06-2.06.94zm-11 1L8.5 8.5l.94-2.06 2.06-.94-2.06-.94L8.5 2.5l-.94 2.06-2.06.94zm10 10l.94 2.06.94-2.06 2.06-.94-2.06-.94-.94-2.06-.94 2.06-2.06.94z\"/><path d=\"M17.41 7.96l-1.37-1.37c-.4-.4-.92-.59-1.43-.59-.52 0-1.04.2-1.43.59L10.3 9.45l-7.72 7.72c-.78.78-.78 2.05 0 2.83L4 21.41c.39.39.9.59 1.41.59.51 0 1.02-.2 1.41-.59l7.78-7.78 2.81-2.81c.8-.78.8-2.07 0-2.86zM5.41 20L4 18.59l7.72-7.72 1.47 1.35L5.41 20z\"/>\n",
              "  </svg>\n",
              "      </button>\n",
              "      \n",
              "  <style>\n",
              "    .colab-df-container {\n",
              "      display:flex;\n",
              "      flex-wrap:wrap;\n",
              "      gap: 12px;\n",
              "    }\n",
              "\n",
              "    .colab-df-convert {\n",
              "      background-color: #E8F0FE;\n",
              "      border: none;\n",
              "      border-radius: 50%;\n",
              "      cursor: pointer;\n",
              "      display: none;\n",
              "      fill: #1967D2;\n",
              "      height: 32px;\n",
              "      padding: 0 0 0 0;\n",
              "      width: 32px;\n",
              "    }\n",
              "\n",
              "    .colab-df-convert:hover {\n",
              "      background-color: #E2EBFA;\n",
              "      box-shadow: 0px 1px 2px rgba(60, 64, 67, 0.3), 0px 1px 3px 1px rgba(60, 64, 67, 0.15);\n",
              "      fill: #174EA6;\n",
              "    }\n",
              "\n",
              "    [theme=dark] .colab-df-convert {\n",
              "      background-color: #3B4455;\n",
              "      fill: #D2E3FC;\n",
              "    }\n",
              "\n",
              "    [theme=dark] .colab-df-convert:hover {\n",
              "      background-color: #434B5C;\n",
              "      box-shadow: 0px 1px 3px 1px rgba(0, 0, 0, 0.15);\n",
              "      filter: drop-shadow(0px 1px 2px rgba(0, 0, 0, 0.3));\n",
              "      fill: #FFFFFF;\n",
              "    }\n",
              "  </style>\n",
              "\n",
              "      <script>\n",
              "        const buttonEl =\n",
              "          document.querySelector('#df-de697d23-2838-4f11-85e1-857abf68f082 button.colab-df-convert');\n",
              "        buttonEl.style.display =\n",
              "          google.colab.kernel.accessAllowed ? 'block' : 'none';\n",
              "\n",
              "        async function convertToInteractive(key) {\n",
              "          const element = document.querySelector('#df-de697d23-2838-4f11-85e1-857abf68f082');\n",
              "          const dataTable =\n",
              "            await google.colab.kernel.invokeFunction('convertToInteractive',\n",
              "                                                     [key], {});\n",
              "          if (!dataTable) return;\n",
              "\n",
              "          const docLinkHtml = 'Like what you see? Visit the ' +\n",
              "            '<a target=\"_blank\" href=https://colab.research.google.com/notebooks/data_table.ipynb>data table notebook</a>'\n",
              "            + ' to learn more about interactive tables.';\n",
              "          element.innerHTML = '';\n",
              "          dataTable['output_type'] = 'display_data';\n",
              "          await google.colab.output.renderOutput(dataTable, element);\n",
              "          const docLink = document.createElement('div');\n",
              "          docLink.innerHTML = docLinkHtml;\n",
              "          element.appendChild(docLink);\n",
              "        }\n",
              "      </script>\n",
              "    </div>\n",
              "  </div>\n",
              "  "
            ]
          },
          "metadata": {},
          "execution_count": 10
        }
      ]
    },
    {
      "cell_type": "code",
      "source": [
        "#Remove NaN from review_scores_rating\n",
        "# Create the dataframe\n",
        "data = data.dropna(subset=['review_scores_rating'])\n",
        "# dropping the rows having NaN values\n",
        "data = data.dropna()\n",
        "# printing the result\n",
        "data"
      ],
      "metadata": {
        "colab": {
          "base_uri": "https://localhost:8080/",
          "height": 424
        },
        "id": "LRQuF_iBDesQ",
        "outputId": "8f6f1db9-1b1d-418e-8c16-02201dbdc60e"
      },
      "execution_count": 11,
      "outputs": [
        {
          "output_type": "execute_result",
          "data": {
            "text/plain": [
              "       log_price        id  review_scores_rating  number_of_reviews  \\\n",
              "0       5.010635   6901257                 100.0                  2   \n",
              "1       5.129899   6304928                  93.0                  6   \n",
              "2       4.976734   7919400                  92.0                 10   \n",
              "4       4.744932   3808709                  40.0                  4   \n",
              "5       4.442651  12422935                 100.0                  3   \n",
              "...          ...       ...                   ...                ...   \n",
              "74104   4.356709  14934112                 100.0                  6   \n",
              "74105   4.248495    808802                  91.0                 36   \n",
              "74107   5.043425  13281809                  93.0                 16   \n",
              "74108   5.220356  18688039                  94.0                 43   \n",
              "74110   4.852030   3534845                  96.0                205   \n",
              "\n",
              "       accommodates  bathrooms  \n",
              "0                 3        1.0  \n",
              "1                 7        1.0  \n",
              "2                 5        1.0  \n",
              "4                 2        1.0  \n",
              "5                 2        1.0  \n",
              "...             ...        ...  \n",
              "74104             2        1.0  \n",
              "74105             2        1.0  \n",
              "74107             4        2.0  \n",
              "74108             5        1.0  \n",
              "74110             4        1.0  \n",
              "\n",
              "[57230 rows x 6 columns]"
            ],
            "text/html": [
              "\n",
              "  <div id=\"df-222fa543-481f-494b-b8e2-75990a02980f\">\n",
              "    <div class=\"colab-df-container\">\n",
              "      <div>\n",
              "<style scoped>\n",
              "    .dataframe tbody tr th:only-of-type {\n",
              "        vertical-align: middle;\n",
              "    }\n",
              "\n",
              "    .dataframe tbody tr th {\n",
              "        vertical-align: top;\n",
              "    }\n",
              "\n",
              "    .dataframe thead th {\n",
              "        text-align: right;\n",
              "    }\n",
              "</style>\n",
              "<table border=\"1\" class=\"dataframe\">\n",
              "  <thead>\n",
              "    <tr style=\"text-align: right;\">\n",
              "      <th></th>\n",
              "      <th>log_price</th>\n",
              "      <th>id</th>\n",
              "      <th>review_scores_rating</th>\n",
              "      <th>number_of_reviews</th>\n",
              "      <th>accommodates</th>\n",
              "      <th>bathrooms</th>\n",
              "    </tr>\n",
              "  </thead>\n",
              "  <tbody>\n",
              "    <tr>\n",
              "      <th>0</th>\n",
              "      <td>5.010635</td>\n",
              "      <td>6901257</td>\n",
              "      <td>100.0</td>\n",
              "      <td>2</td>\n",
              "      <td>3</td>\n",
              "      <td>1.0</td>\n",
              "    </tr>\n",
              "    <tr>\n",
              "      <th>1</th>\n",
              "      <td>5.129899</td>\n",
              "      <td>6304928</td>\n",
              "      <td>93.0</td>\n",
              "      <td>6</td>\n",
              "      <td>7</td>\n",
              "      <td>1.0</td>\n",
              "    </tr>\n",
              "    <tr>\n",
              "      <th>2</th>\n",
              "      <td>4.976734</td>\n",
              "      <td>7919400</td>\n",
              "      <td>92.0</td>\n",
              "      <td>10</td>\n",
              "      <td>5</td>\n",
              "      <td>1.0</td>\n",
              "    </tr>\n",
              "    <tr>\n",
              "      <th>4</th>\n",
              "      <td>4.744932</td>\n",
              "      <td>3808709</td>\n",
              "      <td>40.0</td>\n",
              "      <td>4</td>\n",
              "      <td>2</td>\n",
              "      <td>1.0</td>\n",
              "    </tr>\n",
              "    <tr>\n",
              "      <th>5</th>\n",
              "      <td>4.442651</td>\n",
              "      <td>12422935</td>\n",
              "      <td>100.0</td>\n",
              "      <td>3</td>\n",
              "      <td>2</td>\n",
              "      <td>1.0</td>\n",
              "    </tr>\n",
              "    <tr>\n",
              "      <th>...</th>\n",
              "      <td>...</td>\n",
              "      <td>...</td>\n",
              "      <td>...</td>\n",
              "      <td>...</td>\n",
              "      <td>...</td>\n",
              "      <td>...</td>\n",
              "    </tr>\n",
              "    <tr>\n",
              "      <th>74104</th>\n",
              "      <td>4.356709</td>\n",
              "      <td>14934112</td>\n",
              "      <td>100.0</td>\n",
              "      <td>6</td>\n",
              "      <td>2</td>\n",
              "      <td>1.0</td>\n",
              "    </tr>\n",
              "    <tr>\n",
              "      <th>74105</th>\n",
              "      <td>4.248495</td>\n",
              "      <td>808802</td>\n",
              "      <td>91.0</td>\n",
              "      <td>36</td>\n",
              "      <td>2</td>\n",
              "      <td>1.0</td>\n",
              "    </tr>\n",
              "    <tr>\n",
              "      <th>74107</th>\n",
              "      <td>5.043425</td>\n",
              "      <td>13281809</td>\n",
              "      <td>93.0</td>\n",
              "      <td>16</td>\n",
              "      <td>4</td>\n",
              "      <td>2.0</td>\n",
              "    </tr>\n",
              "    <tr>\n",
              "      <th>74108</th>\n",
              "      <td>5.220356</td>\n",
              "      <td>18688039</td>\n",
              "      <td>94.0</td>\n",
              "      <td>43</td>\n",
              "      <td>5</td>\n",
              "      <td>1.0</td>\n",
              "    </tr>\n",
              "    <tr>\n",
              "      <th>74110</th>\n",
              "      <td>4.852030</td>\n",
              "      <td>3534845</td>\n",
              "      <td>96.0</td>\n",
              "      <td>205</td>\n",
              "      <td>4</td>\n",
              "      <td>1.0</td>\n",
              "    </tr>\n",
              "  </tbody>\n",
              "</table>\n",
              "<p>57230 rows × 6 columns</p>\n",
              "</div>\n",
              "      <button class=\"colab-df-convert\" onclick=\"convertToInteractive('df-222fa543-481f-494b-b8e2-75990a02980f')\"\n",
              "              title=\"Convert this dataframe to an interactive table.\"\n",
              "              style=\"display:none;\">\n",
              "        \n",
              "  <svg xmlns=\"http://www.w3.org/2000/svg\" height=\"24px\"viewBox=\"0 0 24 24\"\n",
              "       width=\"24px\">\n",
              "    <path d=\"M0 0h24v24H0V0z\" fill=\"none\"/>\n",
              "    <path d=\"M18.56 5.44l.94 2.06.94-2.06 2.06-.94-2.06-.94-.94-2.06-.94 2.06-2.06.94zm-11 1L8.5 8.5l.94-2.06 2.06-.94-2.06-.94L8.5 2.5l-.94 2.06-2.06.94zm10 10l.94 2.06.94-2.06 2.06-.94-2.06-.94-.94-2.06-.94 2.06-2.06.94z\"/><path d=\"M17.41 7.96l-1.37-1.37c-.4-.4-.92-.59-1.43-.59-.52 0-1.04.2-1.43.59L10.3 9.45l-7.72 7.72c-.78.78-.78 2.05 0 2.83L4 21.41c.39.39.9.59 1.41.59.51 0 1.02-.2 1.41-.59l7.78-7.78 2.81-2.81c.8-.78.8-2.07 0-2.86zM5.41 20L4 18.59l7.72-7.72 1.47 1.35L5.41 20z\"/>\n",
              "  </svg>\n",
              "      </button>\n",
              "      \n",
              "  <style>\n",
              "    .colab-df-container {\n",
              "      display:flex;\n",
              "      flex-wrap:wrap;\n",
              "      gap: 12px;\n",
              "    }\n",
              "\n",
              "    .colab-df-convert {\n",
              "      background-color: #E8F0FE;\n",
              "      border: none;\n",
              "      border-radius: 50%;\n",
              "      cursor: pointer;\n",
              "      display: none;\n",
              "      fill: #1967D2;\n",
              "      height: 32px;\n",
              "      padding: 0 0 0 0;\n",
              "      width: 32px;\n",
              "    }\n",
              "\n",
              "    .colab-df-convert:hover {\n",
              "      background-color: #E2EBFA;\n",
              "      box-shadow: 0px 1px 2px rgba(60, 64, 67, 0.3), 0px 1px 3px 1px rgba(60, 64, 67, 0.15);\n",
              "      fill: #174EA6;\n",
              "    }\n",
              "\n",
              "    [theme=dark] .colab-df-convert {\n",
              "      background-color: #3B4455;\n",
              "      fill: #D2E3FC;\n",
              "    }\n",
              "\n",
              "    [theme=dark] .colab-df-convert:hover {\n",
              "      background-color: #434B5C;\n",
              "      box-shadow: 0px 1px 3px 1px rgba(0, 0, 0, 0.15);\n",
              "      filter: drop-shadow(0px 1px 2px rgba(0, 0, 0, 0.3));\n",
              "      fill: #FFFFFF;\n",
              "    }\n",
              "  </style>\n",
              "\n",
              "      <script>\n",
              "        const buttonEl =\n",
              "          document.querySelector('#df-222fa543-481f-494b-b8e2-75990a02980f button.colab-df-convert');\n",
              "        buttonEl.style.display =\n",
              "          google.colab.kernel.accessAllowed ? 'block' : 'none';\n",
              "\n",
              "        async function convertToInteractive(key) {\n",
              "          const element = document.querySelector('#df-222fa543-481f-494b-b8e2-75990a02980f');\n",
              "          const dataTable =\n",
              "            await google.colab.kernel.invokeFunction('convertToInteractive',\n",
              "                                                     [key], {});\n",
              "          if (!dataTable) return;\n",
              "\n",
              "          const docLinkHtml = 'Like what you see? Visit the ' +\n",
              "            '<a target=\"_blank\" href=https://colab.research.google.com/notebooks/data_table.ipynb>data table notebook</a>'\n",
              "            + ' to learn more about interactive tables.';\n",
              "          element.innerHTML = '';\n",
              "          dataTable['output_type'] = 'display_data';\n",
              "          await google.colab.output.renderOutput(dataTable, element);\n",
              "          const docLink = document.createElement('div');\n",
              "          docLink.innerHTML = docLinkHtml;\n",
              "          element.appendChild(docLink);\n",
              "        }\n",
              "      </script>\n",
              "    </div>\n",
              "  </div>\n",
              "  "
            ]
          },
          "metadata": {},
          "execution_count": 11
        }
      ]
    },
    {
      "cell_type": "code",
      "source": [
        "#plot data with its value count\n",
        "data.hist(figsize = (10,10))"
      ],
      "metadata": {
        "colab": {
          "base_uri": "https://localhost:8080/",
          "height": 732
        },
        "id": "08zOojdDEVMT",
        "outputId": "b77e89d7-4d40-4eb9-b503-c3d9e0664bf7"
      },
      "execution_count": 12,
      "outputs": [
        {
          "output_type": "execute_result",
          "data": {
            "text/plain": [
              "array([[<matplotlib.axes._subplots.AxesSubplot object at 0x7f9027b50850>,\n",
              "        <matplotlib.axes._subplots.AxesSubplot object at 0x7f9027b29f90>],\n",
              "       [<matplotlib.axes._subplots.AxesSubplot object at 0x7f9027aed5d0>,\n",
              "        <matplotlib.axes._subplots.AxesSubplot object at 0x7f9027aa2bd0>],\n",
              "       [<matplotlib.axes._subplots.AxesSubplot object at 0x7f9027a66210>,\n",
              "        <matplotlib.axes._subplots.AxesSubplot object at 0x7f9027a1d810>]],\n",
              "      dtype=object)"
            ]
          },
          "metadata": {},
          "execution_count": 12
        },
        {
          "output_type": "display_data",
          "data": {
            "text/plain": [
              "<Figure size 720x720 with 6 Axes>"
            ],
            "image/png": "[encoded data removed]"
          },
          "metadata": {
            "needs_background": "light"
          }
        }
      ]
    },
    {
      "cell_type": "code",
      "source": [
        "plt.scatter(data['review_scores_rating'], data['log_price'])\n",
        "plt.xlabel(\"reiview_scores_rating\")\n",
        "plt.ylabel(\"log_price\")\n",
        "plt.show()"
      ],
      "metadata": {
        "colab": {
          "base_uri": "https://localhost:8080/",
          "height": 280
        },
        "id": "_B7QyJG2F9LT",
        "outputId": "9c058bdb-26f6-4a01-fc9e-8e3c9d20cc20"
      },
      "execution_count": 13,
      "outputs": [
        {
          "output_type": "display_data",
          "data": {
            "text/plain": [
              "<Figure size 432x288 with 1 Axes>"
            ],
            "image/png": "[encoded data removed]"
          },
          "metadata": {
            "needs_background": "light"
          }
        }
      ]
    },
    {
      "cell_type": "code",
      "source": [
        "plt.scatter(data['id'], data['log_price'])\n",
        "plt.xlabel(\"id\")\n",
        "plt.ylabel(\"log_price\")\n",
        "plt.show()"
      ],
      "metadata": {
        "colab": {
          "base_uri": "https://localhost:8080/",
          "height": 279
        },
        "id": "4FApA-nhLBIb",
        "outputId": "82999997-b658-4a39-a426-1532857fa334"
      },
      "execution_count": 14,
      "outputs": [
        {
          "output_type": "display_data",
          "data": {
            "text/plain": [
              "<Figure size 432x288 with 1 Axes>"
            ],
            "image/png": "[encoded data removed]"
          },
          "metadata": {
            "needs_background": "light"
          }
        }
      ]
    },
    {
      "cell_type": "code",
      "source": [
        "plt.scatter(data['accommodates'], data['log_price'])\n",
        "plt.xlabel(\"accommodates\")\n",
        "plt.ylabel(\"log_price\")\n",
        "plt.show()"
      ],
      "metadata": {
        "colab": {
          "base_uri": "https://localhost:8080/",
          "height": 279
        },
        "id": "vS4NZ2OCueY3",
        "outputId": "66fdd04c-d172-4bec-d921-802019ddc225"
      },
      "execution_count": 15,
      "outputs": [
        {
          "output_type": "display_data",
          "data": {
            "text/plain": [
              "<Figure size 432x288 with 1 Axes>"
            ],
            "image/png": "[encoded data removed]"
          },
          "metadata": {
            "needs_background": "light"
          }
        }
      ]
    },
    {
      "cell_type": "code",
      "source": [
        "plt.scatter(data['bathrooms'], data['log_price'])\n",
        "plt.xlabel(\"bathrooms\")\n",
        "plt.ylabel(\"log_price\")\n",
        "plt.show()"
      ],
      "metadata": {
        "colab": {
          "base_uri": "https://localhost:8080/",
          "height": 279
        },
        "id": "p0kZpsYo6LYU",
        "outputId": "8ed7cebb-62ec-421d-e086-e707dc4cee97"
      },
      "execution_count": 16,
      "outputs": [
        {
          "output_type": "display_data",
          "data": {
            "text/plain": [
              "<Figure size 432x288 with 1 Axes>"
            ],
            "image/png": "[encoded data removed]"
          },
          "metadata": {
            "needs_background": "light"
          }
        }
      ]
    },
    {
      "cell_type": "code",
      "source": [
        "#80% data for training and 20% for testing\n",
        "train = data[:(int((len(data)*0.8)))]\n",
        "test = data[(int((len(data)*0.8))):]\n",
        "\n",
        "print(\"Training Data: \", train.shape)\n",
        "print(\"Testing Data: \", test.shape)\n",
        "print(\"Total Data: \", data.shape)"
      ],
      "metadata": {
        "colab": {
          "base_uri": "https://localhost:8080/"
        },
        "id": "dQTsXt3-LObA",
        "outputId": "dc4fe97e-2406-45f9-b482-eb0a9100b9a2"
      },
      "execution_count": 17,
      "outputs": [
        {
          "output_type": "stream",
          "name": "stdout",
          "text": [
            "Training Data:  (45784, 6)\n",
            "Testing Data:  (11446, 6)\n",
            "Total Data:  (57230, 6)\n"
          ]
        }
      ]
    },
    {
      "cell_type": "code",
      "source": [
        "#finding the mean of log_price\n",
        "price = data['log_price']\n",
        "sum_price = price.sum()\n",
        "num_places = len(price)\n",
        "avg_prices1 = sum_price/num_places\n",
        "avg_prices2 = price.mean()\n",
        "print(avg_prices1)\n",
        "print(avg_prices2)"
      ],
      "metadata": {
        "colab": {
          "base_uri": "https://localhost:8080/"
        },
        "id": "1GQvirCQBizD",
        "outputId": "15efb454-487d-4e71-d339-3e0afd15658a"
      },
      "execution_count": 18,
      "outputs": [
        {
          "output_type": "stream",
          "name": "stdout",
          "text": [
            "4.749820409685604\n",
            "4.749820409685604\n"
          ]
        }
      ]
    },
    {
      "cell_type": "code",
      "source": [
        "#main function to find slope and intercept\n",
        "def simple_linear_regression(intput_feature, output):\n",
        "  Xi = intput_feature\n",
        "  Yi = output\n",
        "  N = len(Xi)\n",
        "\n",
        "  Yi_mean = Yi.mean()\n",
        "  Xi_mean = Xi.mean()\n",
        "\n",
        "  S_YiXi = (Yi * Xi).sum()\n",
        "  Yi_Xi_ByN = (Xi.sum() * Xi.sum()) / N\n",
        "\n",
        "  S_XiXi = (Xi * Xi).sum()\n",
        "  XiXi_ByN = (Xi.sum() * Xi.sum()) / N\n",
        "\n",
        "  slope = (S_YiXi - Yi_Xi_ByN) / (S_XiXi - XiXi_ByN)\n",
        "\n",
        "  intercept = Yi_mean - slope * Xi_mean\n",
        "\n",
        "  return (intercept, slope)"
      ],
      "metadata": {
        "id": "Uuw9RavDN6VP"
      },
      "execution_count": 40,
      "outputs": []
    },
    {
      "cell_type": "code",
      "source": [
        "#testing the function with data\n",
        "test_feature = np.array(range(5))\n",
        "test_output = np.array(1 + 1 * test_feature)\n",
        "\n",
        "(test_intercept, test_slope) = simple_linear_regression(test_feature, test_output)\n",
        "\n",
        "print(\"Intercept: \", test_intercept)\n",
        "print(\"Slope: \", test_slope)"
      ],
      "metadata": {
        "colab": {
          "base_uri": "https://localhost:8080/"
        },
        "id": "xgsVeESIQT4G",
        "outputId": "6ae9e750-35a2-461f-e9b4-b40a4253bc44"
      },
      "execution_count": 69,
      "outputs": [
        {
          "output_type": "stream",
          "name": "stdout",
          "text": [
            "Intercept:  -1.0\n",
            "Slope:  2.0\n"
          ]
        }
      ]
    },
    {
      "cell_type": "markdown",
      "source": [
        "#Inspect the negative values and why do i have them...!"
      ],
      "metadata": {
        "id": "Z0MgLG2zr8bI"
      }
    },
    {
      "cell_type": "code",
      "source": [
        "#finding the slope and intercept for our actual data\n",
        "log_intercept, log_slope = simple_linear_regression(train['log_price'], train['review_scores_rating'])\n",
        "\n",
        "print(\"Intercept: \", log_intercept)\n",
        "print(\"Slope: \", log_slope)"
      ],
      "metadata": {
        "id": "oMq-0pwBRUVU"
      },
      "execution_count": null,
      "outputs": []
    },
    {
      "cell_type": "code",
      "source": [
        "#Equation of line:\n",
        "print(\"Y = \", log_intercept, \"*X + \", log_slope)"
      ],
      "metadata": {
        "id": "AxouOek1c_yR",
        "colab": {
          "base_uri": "https://localhost:8080/"
        },
        "outputId": "80405360-30db-4b4e-e69f-933fc3942743"
      },
      "execution_count": 67,
      "outputs": [
        {
          "output_type": "stream",
          "name": "stdout",
          "text": [
            "Y =  -4399.9637421687385 *X +  945.9212380305332\n"
          ]
        }
      ]
    },
    {
      "cell_type": "code",
      "source": [
        "#plot the regression line to visualize it\n",
        "#plotting regression line with data points\n",
        "\n",
        "plt.scatter(train.review_scores_rating, train.log_price, color = \"blue\")\n",
        "plt.plot(train[\"review_scores_rating\"], log_slope*train[\"review_scores_rating\"] + log_intercept, '-r')\n",
        "plt.xlabel(\"review_scores_rating\")\n",
        "plt.ylabel(\"Log Price\")"
      ],
      "metadata": {
        "colab": {
          "base_uri": "https://localhost:8080/",
          "height": 298
        },
        "id": "VefnlQCVr6QP",
        "outputId": "2b7b549f-9c08-4c86-982b-60ca397e15b7"
      },
      "execution_count": 71,
      "outputs": [
        {
          "output_type": "execute_result",
          "data": {
            "text/plain": [
              "Text(0, 0.5, 'Log Price')"
            ]
          },
          "metadata": {},
          "execution_count": 71
        },
        {
          "output_type": "display_data",
          "data": {
            "text/plain": [
              "<Figure size 432x288 with 1 Axes>"
            ],
            "image/png": "[encoded data removed]"
          },
          "metadata": {
            "needs_background": "light"
          }
        }
      ]
    },
    {
      "cell_type": "code",
      "source": [
        "#predict the values with our model\n",
        "def get_regression_predictions(intput_feature, intercept, slope):\n",
        "  predicted_values = intput_feature * slope + intercept\n",
        "\n",
        "  return predicted_values"
      ],
      "metadata": {
        "id": "MLjJMm6xttF8"
      },
      "execution_count": 58,
      "outputs": []
    },
    {
      "cell_type": "code",
      "source": [
        "my_review = 10\n",
        "\n",
        "estimatd_log_price = get_regression_predictions(my_review, log_intercept, log_slope)\n",
        "print(\"Estimated Log Price: \", estimatd_log_price)"
      ],
      "metadata": {
        "colab": {
          "base_uri": "https://localhost:8080/"
        },
        "id": "sdcrlTMeChbx",
        "outputId": "9c71ee1d-bb58-47e5-d4a3-6dc3c96aad2d"
      },
      "execution_count": 59,
      "outputs": [
        {
          "output_type": "stream",
          "name": "stdout",
          "text": [
            "Estimated Log Price:  5059.248638136594\n"
          ]
        }
      ]
    },
    {
      "cell_type": "code",
      "source": [
        "# Here are methods in how our prediction performance is testing the values. Error/accuracy\n",
        "\n",
        "#calculating the error in prediction:\n",
        "def residual_sum_of_squares(intput_feature, output, intercept, slope):\n",
        "  prediction = intput_feature * slope + intercept\n",
        "\n",
        "  residual = output - prediction\n",
        "  RSS = (residual * residual).sum()\n",
        "\n",
        "  return (RSS)"
      ],
      "metadata": {
        "id": "dfPFqSltDovc"
      },
      "execution_count": 48,
      "outputs": []
    },
    {
      "cell_type": "code",
      "source": [
        "#calculate the error for our test dataset\n",
        "print(residual_sum_of_squares(test[\"review_scores_rating\"], test['log_price'], log_intercept, log_slope))"
      ],
      "metadata": {
        "colab": {
          "base_uri": "https://localhost:8080/"
        },
        "id": "OULxUPePEnQM",
        "outputId": "67fde4eb-ce73-4e2b-c4de-ec1fb4a9095e"
      },
      "execution_count": 49,
      "outputs": [
        {
          "output_type": "stream",
          "name": "stdout",
          "text": [
            "82388227286757.84\n"
          ]
        }
      ]
    },
    {
      "cell_type": "code",
      "source": [
        "#calculate the error for our train dataset\n",
        "print(residual_sum_of_squares(train[\"review_scores_rating\"], train['log_price'], log_intercept, log_slope))"
      ],
      "metadata": {
        "colab": {
          "base_uri": "https://localhost:8080/"
        },
        "id": "dvc4x2PCFA6U",
        "outputId": "d34b0890-bcc3-4eab-f9fb-6997e6fab487"
      },
      "execution_count": 50,
      "outputs": [
        {
          "output_type": "stream",
          "name": "stdout",
          "text": [
            "330171573481700.75\n"
          ]
        }
      ]
    },
    {
      "cell_type": "code",
      "source": [
        "#function to calculate Mean Absolute Percentage Error(MAPE):\n",
        "def Mean_Absolute_Percentage_Error(intput_feature, output, intercept, slope):\n",
        "  prediction = intput_feature * slope + intercept\n",
        "\n",
        "  Yi = output\n",
        "\n",
        "  var = ((Yi - prediction)/Yi).abs().sum()\n",
        "\n",
        "  MAPE = var/len(Yi) * 100\n",
        "\n",
        "  return MAPE"
      ],
      "metadata": {
        "id": "s3SuvOkrFLIe"
      },
      "execution_count": 51,
      "outputs": []
    },
    {
      "cell_type": "code",
      "source": [
        "#calculate MAPE\n",
        "print(Mean_Absolute_Percentage_Error(test[\"review_scores_rating\"], test['log_price'], log_intercept, log_slope))"
      ],
      "metadata": {
        "colab": {
          "base_uri": "https://localhost:8080/"
        },
        "id": "CXBVXmpXF2O3",
        "outputId": "39e6524b-ae08-46c0-95ae-3eeb87368105"
      },
      "execution_count": 52,
      "outputs": [
        {
          "output_type": "stream",
          "name": "stdout",
          "text": [
            "1814172.6808253035\n"
          ]
        }
      ]
    }
  ]
}