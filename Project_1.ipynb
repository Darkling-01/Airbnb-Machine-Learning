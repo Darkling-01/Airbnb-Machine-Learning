{
  "nbformat": 4,
  "nbformat_minor": 0,
  "metadata": {
    "colab": {
      "provenance": [],
      "authorship_tag": "ABX9TyMgnOxbhj0AgTGgGSt9bfEk",
      "include_colab_link": true
    },
    "kernelspec": {
      "name": "python3",
      "display_name": "Python 3"
    },
    "language_info": {
      "name": "python"
    }
  },
  "cells": [
    {
      "cell_type": "markdown",
      "metadata": {
        "id": "view-in-github",
        "colab_type": "text"
      },
      "source": [
        "<a href=\"https://colab.research.google.com/github/Darkling-01/Airbnb-Machine-Learning/blob/main/Project_1.ipynb\" target=\"_parent\"><img src=\"https://colab.research.google.com/assets/colab-badge.svg\" alt=\"Open In Colab\"/></a>"
      ]
    },
    {
      "cell_type": "markdown",
      "source": [
        "This project is for Machine Learning CSE5160"
      ],
      "metadata": {
        "id": "62KGNWbEwZHy"
      }
    },
    {
      "cell_type": "code",
      "execution_count": null,
      "metadata": {
        "id": "RoFOTrISwYdn",
        "colab": {
          "base_uri": "https://localhost:8080/"
        },
        "outputId": "a27f5530-24a3-4c29-f945-43314a723d98"
      },
      "outputs": [
        {
          "output_type": "stream",
          "name": "stdout",
          "text": [
            "SETUP COMPLETE...\n"
          ]
        }
      ],
      "source": [
        "import pandas as pd\n",
        "import numpy as np\n",
        "import matplotlib.pyplot as plt\n",
        "import seaborn as sns\n",
        "import math\n",
        "\n",
        "from google.colab import files\n",
        "\n",
        "print(\"SETUP COMPLETE...\")"
      ]
    },
    {
      "cell_type": "code",
      "source": [
        "from google.colab import drive\n",
        "drive.mount('/content/drive', force_remount=True)"
      ],
      "metadata": {
        "colab": {
          "base_uri": "https://localhost:8080/"
        },
        "id": "RAAHoFf49jnO",
        "outputId": "cc6b1a82-c7f5-4576-88a9-dc4ffaa33f0b"
      },
      "execution_count": null,
      "outputs": [
        {
          "output_type": "stream",
          "name": "stdout",
          "text": [
            "Mounted at /content/drive\n"
          ]
        }
      ]
    },
    {
      "cell_type": "code",
      "source": [
        "dataset = pd.read_csv('/content/drive/MyDrive/Colab Notebooks/airbnb_data.csv')\n",
        "dataset"
      ],
      "metadata": {
        "colab": {
          "base_uri": "https://localhost:8080/",
          "height": 887
        },
        "id": "7_qyXUhXSA6f",
        "outputId": "4a5dc053-9b2e-4904-f387-2d41ac31ec4f"
      },
      "execution_count": 208,
      "outputs": [
        {
          "output_type": "execute_result",
          "data": {
            "text/plain": [
              "             id  log_price property_type        room_type  \\\n",
              "0       6901257   5.010635     Apartment  Entire home/apt   \n",
              "1       6304928   5.129899     Apartment  Entire home/apt   \n",
              "2       7919400   4.976734     Apartment  Entire home/apt   \n",
              "3      13418779   6.620073         House  Entire home/apt   \n",
              "4       3808709   4.744932     Apartment  Entire home/apt   \n",
              "...         ...        ...           ...              ...   \n",
              "74106  14549287   4.605170     Apartment     Private room   \n",
              "74107  13281809   5.043425     Apartment  Entire home/apt   \n",
              "74108  18688039   5.220356     Apartment  Entire home/apt   \n",
              "74109  17045948   5.273000     Apartment  Entire home/apt   \n",
              "74110   3534845   4.852030          Boat  Entire home/apt   \n",
              "\n",
              "                                               amenities  accommodates  \\\n",
              "0      {\"Wireless Internet\",\"Air conditioning\",Kitche...             3   \n",
              "1      {\"Wireless Internet\",\"Air conditioning\",Kitche...             7   \n",
              "2      {TV,\"Cable TV\",\"Wireless Internet\",\"Air condit...             5   \n",
              "3      {TV,\"Cable TV\",Internet,\"Wireless Internet\",Ki...             4   \n",
              "4      {TV,Internet,\"Wireless Internet\",\"Air conditio...             2   \n",
              "...                                                  ...           ...   \n",
              "74106                                                 {}             1   \n",
              "74107  {TV,\"Cable TV\",Internet,\"Wireless Internet\",Ki...             4   \n",
              "74108  {TV,Internet,\"Wireless Internet\",\"Air conditio...             5   \n",
              "74109  {TV,\"Wireless Internet\",\"Air conditioning\",Kit...             2   \n",
              "74110  {TV,Internet,\"Wireless Internet\",Kitchen,\"Free...             4   \n",
              "\n",
              "       bathrooms  bed_type cancellation_policy  cleaning_fee  ...   latitude  \\\n",
              "0            1.0  Real Bed              strict          True  ...  40.696524   \n",
              "1            1.0  Real Bed              strict          True  ...  40.766115   \n",
              "2            1.0  Real Bed            moderate          True  ...  40.808110   \n",
              "3            1.0  Real Bed            flexible          True  ...  37.772004   \n",
              "4            1.0  Real Bed            moderate          True  ...  38.925627   \n",
              "...          ...       ...                 ...           ...  ...        ...   \n",
              "74106        1.0  Real Bed            flexible         False  ...  40.709025   \n",
              "74107        2.0  Real Bed            moderate          True  ...  33.871549   \n",
              "74108        1.0  Real Bed            moderate          True  ...  40.706749   \n",
              "74109        1.0  Real Bed              strict          True  ...  40.738535   \n",
              "74110        1.0  Real Bed            moderate         False  ...  33.761096   \n",
              "\n",
              "        longitude                                        name  \\\n",
              "0      -73.991617              Beautiful brownstone 1-bedroom   \n",
              "1      -73.989040    Superb 3BR Apt Located Near Times Square   \n",
              "2      -73.943756                            The Garden Oasis   \n",
              "3     -122.431619          Beautiful Flat in the Heart of SF!   \n",
              "4      -77.034596                  Great studio in midtown DC   \n",
              "...           ...                                         ...   \n",
              "74106  -73.939405                           one room bushwick   \n",
              "74107 -118.396053                Spacious Hermosa 2 BR on PCH   \n",
              "74108  -73.942377  Modern 2 Bedroom Apartment in Williamsburg   \n",
              "74109  -74.000157        Designer's Apartment in HEART of NYC   \n",
              "74110 -118.192409              Cozy Boat at Shoreline Village   \n",
              "\n",
              "          neighbourhood number_of_reviews review_scores_rating  \\\n",
              "0      Brooklyn Heights                 2                100.0   \n",
              "1        Hell's Kitchen                 6                 93.0   \n",
              "2                Harlem                10                 92.0   \n",
              "3          Lower Haight                 0                  NaN   \n",
              "4      Columbia Heights                 4                 40.0   \n",
              "...                 ...               ...                  ...   \n",
              "74106      Williamsburg                 0                  NaN   \n",
              "74107     Hermosa Beach                16                 93.0   \n",
              "74108      Williamsburg                43                 94.0   \n",
              "74109      West Village                 0                  NaN   \n",
              "74110        Long Beach               205                 96.0   \n",
              "\n",
              "                                           thumbnail_url  zipcode bedrooms  \\\n",
              "0      https://a0.muscache.com/im/pictures/6d7cbbf7-c...    11201      1.0   \n",
              "1      https://a0.muscache.com/im/pictures/348a55fe-4...    10019      3.0   \n",
              "2      https://a0.muscache.com/im/pictures/6fae5362-9...    10027      1.0   \n",
              "3      https://a0.muscache.com/im/pictures/72208dad-9...  94117.0      2.0   \n",
              "4                                                    NaN    20009      0.0   \n",
              "...                                                  ...      ...      ...   \n",
              "74106  https://a0.muscache.com/im/pictures/55162426/6...  11206.0      1.0   \n",
              "74107  https://a0.muscache.com/im/pictures/2b86560b-a...    90254      2.0   \n",
              "74108  https://a0.muscache.com/im/pictures/7fbe448c-5...  11206.0      2.0   \n",
              "74109  https://a0.muscache.com/im/pictures/b3971b63-0...    10011      0.0   \n",
              "74110  https://a0.muscache.com/im/pictures/22968537/d...    90802      1.0   \n",
              "\n",
              "       beds  \n",
              "0       1.0  \n",
              "1       3.0  \n",
              "2       3.0  \n",
              "3       2.0  \n",
              "4       1.0  \n",
              "...     ...  \n",
              "74106   1.0  \n",
              "74107   4.0  \n",
              "74108   2.0  \n",
              "74109   2.0  \n",
              "74110   2.0  \n",
              "\n",
              "[74111 rows x 29 columns]"
            ],
            "text/html": [
              "\n",
              "  <div id=\"df-382ed242-9a4c-4d07-883a-15536338ae8b\">\n",
              "    <div class=\"colab-df-container\">\n",
              "      <div>\n",
              "<style scoped>\n",
              "    .dataframe tbody tr th:only-of-type {\n",
              "        vertical-align: middle;\n",
              "    }\n",
              "\n",
              "    .dataframe tbody tr th {\n",
              "        vertical-align: top;\n",
              "    }\n",
              "\n",
              "    .dataframe thead th {\n",
              "        text-align: right;\n",
              "    }\n",
              "</style>\n",
              "<table border=\"1\" class=\"dataframe\">\n",
              "  <thead>\n",
              "    <tr style=\"text-align: right;\">\n",
              "      <th></th>\n",
              "      <th>id</th>\n",
              "      <th>log_price</th>\n",
              "      <th>property_type</th>\n",
              "      <th>room_type</th>\n",
              "      <th>amenities</th>\n",
              "      <th>accommodates</th>\n",
              "      <th>bathrooms</th>\n",
              "      <th>bed_type</th>\n",
              "      <th>cancellation_policy</th>\n",
              "      <th>cleaning_fee</th>\n",
              "      <th>...</th>\n",
              "      <th>latitude</th>\n",
              "      <th>longitude</th>\n",
              "      <th>name</th>\n",
              "      <th>neighbourhood</th>\n",
              "      <th>number_of_reviews</th>\n",
              "      <th>review_scores_rating</th>\n",
              "      <th>thumbnail_url</th>\n",
              "      <th>zipcode</th>\n",
              "      <th>bedrooms</th>\n",
              "      <th>beds</th>\n",
              "    </tr>\n",
              "  </thead>\n",
              "  <tbody>\n",
              "    <tr>\n",
              "      <th>0</th>\n",
              "      <td>6901257</td>\n",
              "      <td>5.010635</td>\n",
              "      <td>Apartment</td>\n",
              "      <td>Entire home/apt</td>\n",
              "      <td>{\"Wireless Internet\",\"Air conditioning\",Kitche...</td>\n",
              "      <td>3</td>\n",
              "      <td>1.0</td>\n",
              "      <td>Real Bed</td>\n",
              "      <td>strict</td>\n",
              "      <td>True</td>\n",
              "      <td>...</td>\n",
              "      <td>40.696524</td>\n",
              "      <td>-73.991617</td>\n",
              "      <td>Beautiful brownstone 1-bedroom</td>\n",
              "      <td>Brooklyn Heights</td>\n",
              "      <td>2</td>\n",
              "      <td>100.0</td>\n",
              "      <td>https://a0.muscache.com/im/pictures/6d7cbbf7-c...</td>\n",
              "      <td>11201</td>\n",
              "      <td>1.0</td>\n",
              "      <td>1.0</td>\n",
              "    </tr>\n",
              "    <tr>\n",
              "      <th>1</th>\n",
              "      <td>6304928</td>\n",
              "      <td>5.129899</td>\n",
              "      <td>Apartment</td>\n",
              "      <td>Entire home/apt</td>\n",
              "      <td>{\"Wireless Internet\",\"Air conditioning\",Kitche...</td>\n",
              "      <td>7</td>\n",
              "      <td>1.0</td>\n",
              "      <td>Real Bed</td>\n",
              "      <td>strict</td>\n",
              "      <td>True</td>\n",
              "      <td>...</td>\n",
              "      <td>40.766115</td>\n",
              "      <td>-73.989040</td>\n",
              "      <td>Superb 3BR Apt Located Near Times Square</td>\n",
              "      <td>Hell's Kitchen</td>\n",
              "      <td>6</td>\n",
              "      <td>93.0</td>\n",
              "      <td>https://a0.muscache.com/im/pictures/348a55fe-4...</td>\n",
              "      <td>10019</td>\n",
              "      <td>3.0</td>\n",
              "      <td>3.0</td>\n",
              "    </tr>\n",
              "    <tr>\n",
              "      <th>2</th>\n",
              "      <td>7919400</td>\n",
              "      <td>4.976734</td>\n",
              "      <td>Apartment</td>\n",
              "      <td>Entire home/apt</td>\n",
              "      <td>{TV,\"Cable TV\",\"Wireless Internet\",\"Air condit...</td>\n",
              "      <td>5</td>\n",
              "      <td>1.0</td>\n",
              "      <td>Real Bed</td>\n",
              "      <td>moderate</td>\n",
              "      <td>True</td>\n",
              "      <td>...</td>\n",
              "      <td>40.808110</td>\n",
              "      <td>-73.943756</td>\n",
              "      <td>The Garden Oasis</td>\n",
              "      <td>Harlem</td>\n",
              "      <td>10</td>\n",
              "      <td>92.0</td>\n",
              "      <td>https://a0.muscache.com/im/pictures/6fae5362-9...</td>\n",
              "      <td>10027</td>\n",
              "      <td>1.0</td>\n",
              "      <td>3.0</td>\n",
              "    </tr>\n",
              "    <tr>\n",
              "      <th>3</th>\n",
              "      <td>13418779</td>\n",
              "      <td>6.620073</td>\n",
              "      <td>House</td>\n",
              "      <td>Entire home/apt</td>\n",
              "      <td>{TV,\"Cable TV\",Internet,\"Wireless Internet\",Ki...</td>\n",
              "      <td>4</td>\n",
              "      <td>1.0</td>\n",
              "      <td>Real Bed</td>\n",
              "      <td>flexible</td>\n",
              "      <td>True</td>\n",
              "      <td>...</td>\n",
              "      <td>37.772004</td>\n",
              "      <td>-122.431619</td>\n",
              "      <td>Beautiful Flat in the Heart of SF!</td>\n",
              "      <td>Lower Haight</td>\n",
              "      <td>0</td>\n",
              "      <td>NaN</td>\n",
              "      <td>https://a0.muscache.com/im/pictures/72208dad-9...</td>\n",
              "      <td>94117.0</td>\n",
              "      <td>2.0</td>\n",
              "      <td>2.0</td>\n",
              "    </tr>\n",
              "    <tr>\n",
              "      <th>4</th>\n",
              "      <td>3808709</td>\n",
              "      <td>4.744932</td>\n",
              "      <td>Apartment</td>\n",
              "      <td>Entire home/apt</td>\n",
              "      <td>{TV,Internet,\"Wireless Internet\",\"Air conditio...</td>\n",
              "      <td>2</td>\n",
              "      <td>1.0</td>\n",
              "      <td>Real Bed</td>\n",
              "      <td>moderate</td>\n",
              "      <td>True</td>\n",
              "      <td>...</td>\n",
              "      <td>38.925627</td>\n",
              "      <td>-77.034596</td>\n",
              "      <td>Great studio in midtown DC</td>\n",
              "      <td>Columbia Heights</td>\n",
              "      <td>4</td>\n",
              "      <td>40.0</td>\n",
              "      <td>NaN</td>\n",
              "      <td>20009</td>\n",
              "      <td>0.0</td>\n",
              "      <td>1.0</td>\n",
              "    </tr>\n",
              "    <tr>\n",
              "      <th>...</th>\n",
              "      <td>...</td>\n",
              "      <td>...</td>\n",
              "      <td>...</td>\n",
              "      <td>...</td>\n",
              "      <td>...</td>\n",
              "      <td>...</td>\n",
              "      <td>...</td>\n",
              "      <td>...</td>\n",
              "      <td>...</td>\n",
              "      <td>...</td>\n",
              "      <td>...</td>\n",
              "      <td>...</td>\n",
              "      <td>...</td>\n",
              "      <td>...</td>\n",
              "      <td>...</td>\n",
              "      <td>...</td>\n",
              "      <td>...</td>\n",
              "      <td>...</td>\n",
              "      <td>...</td>\n",
              "      <td>...</td>\n",
              "      <td>...</td>\n",
              "    </tr>\n",
              "    <tr>\n",
              "      <th>74106</th>\n",
              "      <td>14549287</td>\n",
              "      <td>4.605170</td>\n",
              "      <td>Apartment</td>\n",
              "      <td>Private room</td>\n",
              "      <td>{}</td>\n",
              "      <td>1</td>\n",
              "      <td>1.0</td>\n",
              "      <td>Real Bed</td>\n",
              "      <td>flexible</td>\n",
              "      <td>False</td>\n",
              "      <td>...</td>\n",
              "      <td>40.709025</td>\n",
              "      <td>-73.939405</td>\n",
              "      <td>one room bushwick</td>\n",
              "      <td>Williamsburg</td>\n",
              "      <td>0</td>\n",
              "      <td>NaN</td>\n",
              "      <td>https://a0.muscache.com/im/pictures/55162426/6...</td>\n",
              "      <td>11206.0</td>\n",
              "      <td>1.0</td>\n",
              "      <td>1.0</td>\n",
              "    </tr>\n",
              "    <tr>\n",
              "      <th>74107</th>\n",
              "      <td>13281809</td>\n",
              "      <td>5.043425</td>\n",
              "      <td>Apartment</td>\n",
              "      <td>Entire home/apt</td>\n",
              "      <td>{TV,\"Cable TV\",Internet,\"Wireless Internet\",Ki...</td>\n",
              "      <td>4</td>\n",
              "      <td>2.0</td>\n",
              "      <td>Real Bed</td>\n",
              "      <td>moderate</td>\n",
              "      <td>True</td>\n",
              "      <td>...</td>\n",
              "      <td>33.871549</td>\n",
              "      <td>-118.396053</td>\n",
              "      <td>Spacious Hermosa 2 BR on PCH</td>\n",
              "      <td>Hermosa Beach</td>\n",
              "      <td>16</td>\n",
              "      <td>93.0</td>\n",
              "      <td>https://a0.muscache.com/im/pictures/2b86560b-a...</td>\n",
              "      <td>90254</td>\n",
              "      <td>2.0</td>\n",
              "      <td>4.0</td>\n",
              "    </tr>\n",
              "    <tr>\n",
              "      <th>74108</th>\n",
              "      <td>18688039</td>\n",
              "      <td>5.220356</td>\n",
              "      <td>Apartment</td>\n",
              "      <td>Entire home/apt</td>\n",
              "      <td>{TV,Internet,\"Wireless Internet\",\"Air conditio...</td>\n",
              "      <td>5</td>\n",
              "      <td>1.0</td>\n",
              "      <td>Real Bed</td>\n",
              "      <td>moderate</td>\n",
              "      <td>True</td>\n",
              "      <td>...</td>\n",
              "      <td>40.706749</td>\n",
              "      <td>-73.942377</td>\n",
              "      <td>Modern 2 Bedroom Apartment in Williamsburg</td>\n",
              "      <td>Williamsburg</td>\n",
              "      <td>43</td>\n",
              "      <td>94.0</td>\n",
              "      <td>https://a0.muscache.com/im/pictures/7fbe448c-5...</td>\n",
              "      <td>11206.0</td>\n",
              "      <td>2.0</td>\n",
              "      <td>2.0</td>\n",
              "    </tr>\n",
              "    <tr>\n",
              "      <th>74109</th>\n",
              "      <td>17045948</td>\n",
              "      <td>5.273000</td>\n",
              "      <td>Apartment</td>\n",
              "      <td>Entire home/apt</td>\n",
              "      <td>{TV,\"Wireless Internet\",\"Air conditioning\",Kit...</td>\n",
              "      <td>2</td>\n",
              "      <td>1.0</td>\n",
              "      <td>Real Bed</td>\n",
              "      <td>strict</td>\n",
              "      <td>True</td>\n",
              "      <td>...</td>\n",
              "      <td>40.738535</td>\n",
              "      <td>-74.000157</td>\n",
              "      <td>Designer's Apartment in HEART of NYC</td>\n",
              "      <td>West Village</td>\n",
              "      <td>0</td>\n",
              "      <td>NaN</td>\n",
              "      <td>https://a0.muscache.com/im/pictures/b3971b63-0...</td>\n",
              "      <td>10011</td>\n",
              "      <td>0.0</td>\n",
              "      <td>2.0</td>\n",
              "    </tr>\n",
              "    <tr>\n",
              "      <th>74110</th>\n",
              "      <td>3534845</td>\n",
              "      <td>4.852030</td>\n",
              "      <td>Boat</td>\n",
              "      <td>Entire home/apt</td>\n",
              "      <td>{TV,Internet,\"Wireless Internet\",Kitchen,\"Free...</td>\n",
              "      <td>4</td>\n",
              "      <td>1.0</td>\n",
              "      <td>Real Bed</td>\n",
              "      <td>moderate</td>\n",
              "      <td>False</td>\n",
              "      <td>...</td>\n",
              "      <td>33.761096</td>\n",
              "      <td>-118.192409</td>\n",
              "      <td>Cozy Boat at Shoreline Village</td>\n",
              "      <td>Long Beach</td>\n",
              "      <td>205</td>\n",
              "      <td>96.0</td>\n",
              "      <td>https://a0.muscache.com/im/pictures/22968537/d...</td>\n",
              "      <td>90802</td>\n",
              "      <td>1.0</td>\n",
              "      <td>2.0</td>\n",
              "    </tr>\n",
              "  </tbody>\n",
              "</table>\n",
              "<p>74111 rows × 29 columns</p>\n",
              "</div>\n",
              "      <button class=\"colab-df-convert\" onclick=\"convertToInteractive('df-382ed242-9a4c-4d07-883a-15536338ae8b')\"\n",
              "              title=\"Convert this dataframe to an interactive table.\"\n",
              "              style=\"display:none;\">\n",
              "        \n",
              "  <svg xmlns=\"http://www.w3.org/2000/svg\" height=\"24px\"viewBox=\"0 0 24 24\"\n",
              "       width=\"24px\">\n",
              "    <path d=\"M0 0h24v24H0V0z\" fill=\"none\"/>\n",
              "    <path d=\"M18.56 5.44l.94 2.06.94-2.06 2.06-.94-2.06-.94-.94-2.06-.94 2.06-2.06.94zm-11 1L8.5 8.5l.94-2.06 2.06-.94-2.06-.94L8.5 2.5l-.94 2.06-2.06.94zm10 10l.94 2.06.94-2.06 2.06-.94-2.06-.94-.94-2.06-.94 2.06-2.06.94z\"/><path d=\"M17.41 7.96l-1.37-1.37c-.4-.4-.92-.59-1.43-.59-.52 0-1.04.2-1.43.59L10.3 9.45l-7.72 7.72c-.78.78-.78 2.05 0 2.83L4 21.41c.39.39.9.59 1.41.59.51 0 1.02-.2 1.41-.59l7.78-7.78 2.81-2.81c.8-.78.8-2.07 0-2.86zM5.41 20L4 18.59l7.72-7.72 1.47 1.35L5.41 20z\"/>\n",
              "  </svg>\n",
              "      </button>\n",
              "      \n",
              "  <style>\n",
              "    .colab-df-container {\n",
              "      display:flex;\n",
              "      flex-wrap:wrap;\n",
              "      gap: 12px;\n",
              "    }\n",
              "\n",
              "    .colab-df-convert {\n",
              "      background-color: #E8F0FE;\n",
              "      border: none;\n",
              "      border-radius: 50%;\n",
              "      cursor: pointer;\n",
              "      display: none;\n",
              "      fill: #1967D2;\n",
              "      height: 32px;\n",
              "      padding: 0 0 0 0;\n",
              "      width: 32px;\n",
              "    }\n",
              "\n",
              "    .colab-df-convert:hover {\n",
              "      background-color: #E2EBFA;\n",
              "      box-shadow: 0px 1px 2px rgba(60, 64, 67, 0.3), 0px 1px 3px 1px rgba(60, 64, 67, 0.15);\n",
              "      fill: #174EA6;\n",
              "    }\n",
              "\n",
              "    [theme=dark] .colab-df-convert {\n",
              "      background-color: #3B4455;\n",
              "      fill: #D2E3FC;\n",
              "    }\n",
              "\n",
              "    [theme=dark] .colab-df-convert:hover {\n",
              "      background-color: #434B5C;\n",
              "      box-shadow: 0px 1px 3px 1px rgba(0, 0, 0, 0.15);\n",
              "      filter: drop-shadow(0px 1px 2px rgba(0, 0, 0, 0.3));\n",
              "      fill: #FFFFFF;\n",
              "    }\n",
              "  </style>\n",
              "\n",
              "      <script>\n",
              "        const buttonEl =\n",
              "          document.querySelector('#df-382ed242-9a4c-4d07-883a-15536338ae8b button.colab-df-convert');\n",
              "        buttonEl.style.display =\n",
              "          google.colab.kernel.accessAllowed ? 'block' : 'none';\n",
              "\n",
              "        async function convertToInteractive(key) {\n",
              "          const element = document.querySelector('#df-382ed242-9a4c-4d07-883a-15536338ae8b');\n",
              "          const dataTable =\n",
              "            await google.colab.kernel.invokeFunction('convertToInteractive',\n",
              "                                                     [key], {});\n",
              "          if (!dataTable) return;\n",
              "\n",
              "          const docLinkHtml = 'Like what you see? Visit the ' +\n",
              "            '<a target=\"_blank\" href=https://colab.research.google.com/notebooks/data_table.ipynb>data table notebook</a>'\n",
              "            + ' to learn more about interactive tables.';\n",
              "          element.innerHTML = '';\n",
              "          dataTable['output_type'] = 'display_data';\n",
              "          await google.colab.output.renderOutput(dataTable, element);\n",
              "          const docLink = document.createElement('div');\n",
              "          docLink.innerHTML = docLinkHtml;\n",
              "          element.appendChild(docLink);\n",
              "        }\n",
              "      </script>\n",
              "    </div>\n",
              "  </div>\n",
              "  "
            ]
          },
          "metadata": {},
          "execution_count": 208
        }
      ]
    },
    {
      "cell_type": "code",
      "source": [
        "print('Number of rows in the dataframe:', dataset.shape[0])\n",
        "print('Number of columns in the dataframe:', dataset.shape[1])"
      ],
      "metadata": {
        "colab": {
          "base_uri": "https://localhost:8080/"
        },
        "id": "IWHlSQzHjb2D",
        "outputId": "fcc6bf55-593b-4bc3-a00b-7739ef03bb90"
      },
      "execution_count": 165,
      "outputs": [
        {
          "output_type": "stream",
          "name": "stdout",
          "text": [
            "Number of rows in the dataframe: 74111\n",
            "Number of columns in the dataframe: 29\n"
          ]
        }
      ]
    },
    {
      "cell_type": "code",
      "source": [
        "dataset.columns"
      ],
      "metadata": {
        "id": "dn-ddFkTTI9y",
        "colab": {
          "base_uri": "https://localhost:8080/"
        },
        "outputId": "3c4929f8-40d2-4a63-832c-3318959fd121"
      },
      "execution_count": 166,
      "outputs": [
        {
          "output_type": "execute_result",
          "data": {
            "text/plain": [
              "Index(['id', 'log_price', 'property_type', 'room_type', 'amenities',\n",
              "       'accommodates', 'bathrooms', 'bed_type', 'cancellation_policy',\n",
              "       'cleaning_fee', 'city', 'description', 'first_review',\n",
              "       'host_has_profile_pic', 'host_identity_verified', 'host_response_rate',\n",
              "       'host_since', 'instant_bookable', 'last_review', 'latitude',\n",
              "       'longitude', 'name', 'neighbourhood', 'number_of_reviews',\n",
              "       'review_scores_rating', 'thumbnail_url', 'zipcode', 'bedrooms', 'beds'],\n",
              "      dtype='object')"
            ]
          },
          "metadata": {},
          "execution_count": 166
        }
      ]
    },
    {
      "cell_type": "code",
      "source": [
        "#finding attitional info about our data\n",
        "dataset.info()"
      ],
      "metadata": {
        "colab": {
          "base_uri": "https://localhost:8080/"
        },
        "id": "fIT81cFECeac",
        "outputId": "04c5058f-49ba-4b9c-f00f-9d1a3fd48de8"
      },
      "execution_count": 175,
      "outputs": [
        {
          "output_type": "stream",
          "name": "stdout",
          "text": [
            "<class 'pandas.core.frame.DataFrame'>\n",
            "RangeIndex: 74111 entries, 0 to 74110\n",
            "Data columns (total 29 columns):\n",
            " #   Column                  Non-Null Count  Dtype  \n",
            "---  ------                  --------------  -----  \n",
            " 0   id                      74111 non-null  int64  \n",
            " 1   log_price               74111 non-null  float64\n",
            " 2   property_type           74111 non-null  object \n",
            " 3   room_type               74111 non-null  object \n",
            " 4   amenities               74111 non-null  object \n",
            " 5   accommodates            74111 non-null  int64  \n",
            " 6   bathrooms               73911 non-null  float64\n",
            " 7   bed_type                74111 non-null  object \n",
            " 8   cancellation_policy     74111 non-null  object \n",
            " 9   cleaning_fee            74111 non-null  bool   \n",
            " 10  city                    74111 non-null  object \n",
            " 11  description             74111 non-null  object \n",
            " 12  first_review            58247 non-null  object \n",
            " 13  host_has_profile_pic    73923 non-null  object \n",
            " 14  host_identity_verified  73923 non-null  object \n",
            " 15  host_response_rate      55812 non-null  object \n",
            " 16  host_since              73923 non-null  object \n",
            " 17  instant_bookable        74111 non-null  object \n",
            " 18  last_review             58284 non-null  object \n",
            " 19  latitude                74111 non-null  float64\n",
            " 20  longitude               74111 non-null  float64\n",
            " 21  name                    74111 non-null  object \n",
            " 22  neighbourhood           67239 non-null  object \n",
            " 23  number_of_reviews       74111 non-null  int64  \n",
            " 24  review_scores_rating    57389 non-null  float64\n",
            " 25  thumbnail_url           65895 non-null  object \n",
            " 26  zipcode                 73145 non-null  object \n",
            " 27  bedrooms                74020 non-null  float64\n",
            " 28  beds                    73980 non-null  float64\n",
            "dtypes: bool(1), float64(7), int64(3), object(18)\n",
            "memory usage: 15.9+ MB\n"
          ]
        }
      ]
    },
    {
      "cell_type": "code",
      "source": [],
      "metadata": {
        "id": "OltW1cY_AJ3o"
      },
      "execution_count": 206,
      "outputs": []
    },
    {
      "cell_type": "code",
      "source": [
        "#selecting features that I will be using for the model\n",
        "data = dataset[['log_price', 'id', 'review_scores_rating', 'number_of_reviews', 'accommodates', 'bathrooms']]\n",
        "data.head()"
      ],
      "metadata": {
        "colab": {
          "base_uri": "https://localhost:8080/",
          "height": 206
        },
        "id": "Nd6xsdsOvl7S",
        "outputId": "9fb6cb9d-39f6-429c-cdaf-74ce3717446f"
      },
      "execution_count": 209,
      "outputs": [
        {
          "output_type": "execute_result",
          "data": {
            "text/plain": [
              "   log_price        id  review_scores_rating  number_of_reviews  accommodates  \\\n",
              "0   5.010635   6901257                 100.0                  2             3   \n",
              "1   5.129899   6304928                  93.0                  6             7   \n",
              "2   4.976734   7919400                  92.0                 10             5   \n",
              "3   6.620073  13418779                   NaN                  0             4   \n",
              "4   4.744932   3808709                  40.0                  4             2   \n",
              "\n",
              "   bathrooms  \n",
              "0        1.0  \n",
              "1        1.0  \n",
              "2        1.0  \n",
              "3        1.0  \n",
              "4        1.0  "
            ],
            "text/html": [
              "\n",
              "  <div id=\"df-4c218f3d-db4d-40af-8695-4c71bdc14544\">\n",
              "    <div class=\"colab-df-container\">\n",
              "      <div>\n",
              "<style scoped>\n",
              "    .dataframe tbody tr th:only-of-type {\n",
              "        vertical-align: middle;\n",
              "    }\n",
              "\n",
              "    .dataframe tbody tr th {\n",
              "        vertical-align: top;\n",
              "    }\n",
              "\n",
              "    .dataframe thead th {\n",
              "        text-align: right;\n",
              "    }\n",
              "</style>\n",
              "<table border=\"1\" class=\"dataframe\">\n",
              "  <thead>\n",
              "    <tr style=\"text-align: right;\">\n",
              "      <th></th>\n",
              "      <th>log_price</th>\n",
              "      <th>id</th>\n",
              "      <th>review_scores_rating</th>\n",
              "      <th>number_of_reviews</th>\n",
              "      <th>accommodates</th>\n",
              "      <th>bathrooms</th>\n",
              "    </tr>\n",
              "  </thead>\n",
              "  <tbody>\n",
              "    <tr>\n",
              "      <th>0</th>\n",
              "      <td>5.010635</td>\n",
              "      <td>6901257</td>\n",
              "      <td>100.0</td>\n",
              "      <td>2</td>\n",
              "      <td>3</td>\n",
              "      <td>1.0</td>\n",
              "    </tr>\n",
              "    <tr>\n",
              "      <th>1</th>\n",
              "      <td>5.129899</td>\n",
              "      <td>6304928</td>\n",
              "      <td>93.0</td>\n",
              "      <td>6</td>\n",
              "      <td>7</td>\n",
              "      <td>1.0</td>\n",
              "    </tr>\n",
              "    <tr>\n",
              "      <th>2</th>\n",
              "      <td>4.976734</td>\n",
              "      <td>7919400</td>\n",
              "      <td>92.0</td>\n",
              "      <td>10</td>\n",
              "      <td>5</td>\n",
              "      <td>1.0</td>\n",
              "    </tr>\n",
              "    <tr>\n",
              "      <th>3</th>\n",
              "      <td>6.620073</td>\n",
              "      <td>13418779</td>\n",
              "      <td>NaN</td>\n",
              "      <td>0</td>\n",
              "      <td>4</td>\n",
              "      <td>1.0</td>\n",
              "    </tr>\n",
              "    <tr>\n",
              "      <th>4</th>\n",
              "      <td>4.744932</td>\n",
              "      <td>3808709</td>\n",
              "      <td>40.0</td>\n",
              "      <td>4</td>\n",
              "      <td>2</td>\n",
              "      <td>1.0</td>\n",
              "    </tr>\n",
              "  </tbody>\n",
              "</table>\n",
              "</div>\n",
              "      <button class=\"colab-df-convert\" onclick=\"convertToInteractive('df-4c218f3d-db4d-40af-8695-4c71bdc14544')\"\n",
              "              title=\"Convert this dataframe to an interactive table.\"\n",
              "              style=\"display:none;\">\n",
              "        \n",
              "  <svg xmlns=\"http://www.w3.org/2000/svg\" height=\"24px\"viewBox=\"0 0 24 24\"\n",
              "       width=\"24px\">\n",
              "    <path d=\"M0 0h24v24H0V0z\" fill=\"none\"/>\n",
              "    <path d=\"M18.56 5.44l.94 2.06.94-2.06 2.06-.94-2.06-.94-.94-2.06-.94 2.06-2.06.94zm-11 1L8.5 8.5l.94-2.06 2.06-.94-2.06-.94L8.5 2.5l-.94 2.06-2.06.94zm10 10l.94 2.06.94-2.06 2.06-.94-2.06-.94-.94-2.06-.94 2.06-2.06.94z\"/><path d=\"M17.41 7.96l-1.37-1.37c-.4-.4-.92-.59-1.43-.59-.52 0-1.04.2-1.43.59L10.3 9.45l-7.72 7.72c-.78.78-.78 2.05 0 2.83L4 21.41c.39.39.9.59 1.41.59.51 0 1.02-.2 1.41-.59l7.78-7.78 2.81-2.81c.8-.78.8-2.07 0-2.86zM5.41 20L4 18.59l7.72-7.72 1.47 1.35L5.41 20z\"/>\n",
              "  </svg>\n",
              "      </button>\n",
              "      \n",
              "  <style>\n",
              "    .colab-df-container {\n",
              "      display:flex;\n",
              "      flex-wrap:wrap;\n",
              "      gap: 12px;\n",
              "    }\n",
              "\n",
              "    .colab-df-convert {\n",
              "      background-color: #E8F0FE;\n",
              "      border: none;\n",
              "      border-radius: 50%;\n",
              "      cursor: pointer;\n",
              "      display: none;\n",
              "      fill: #1967D2;\n",
              "      height: 32px;\n",
              "      padding: 0 0 0 0;\n",
              "      width: 32px;\n",
              "    }\n",
              "\n",
              "    .colab-df-convert:hover {\n",
              "      background-color: #E2EBFA;\n",
              "      box-shadow: 0px 1px 2px rgba(60, 64, 67, 0.3), 0px 1px 3px 1px rgba(60, 64, 67, 0.15);\n",
              "      fill: #174EA6;\n",
              "    }\n",
              "\n",
              "    [theme=dark] .colab-df-convert {\n",
              "      background-color: #3B4455;\n",
              "      fill: #D2E3FC;\n",
              "    }\n",
              "\n",
              "    [theme=dark] .colab-df-convert:hover {\n",
              "      background-color: #434B5C;\n",
              "      box-shadow: 0px 1px 3px 1px rgba(0, 0, 0, 0.15);\n",
              "      filter: drop-shadow(0px 1px 2px rgba(0, 0, 0, 0.3));\n",
              "      fill: #FFFFFF;\n",
              "    }\n",
              "  </style>\n",
              "\n",
              "      <script>\n",
              "        const buttonEl =\n",
              "          document.querySelector('#df-4c218f3d-db4d-40af-8695-4c71bdc14544 button.colab-df-convert');\n",
              "        buttonEl.style.display =\n",
              "          google.colab.kernel.accessAllowed ? 'block' : 'none';\n",
              "\n",
              "        async function convertToInteractive(key) {\n",
              "          const element = document.querySelector('#df-4c218f3d-db4d-40af-8695-4c71bdc14544');\n",
              "          const dataTable =\n",
              "            await google.colab.kernel.invokeFunction('convertToInteractive',\n",
              "                                                     [key], {});\n",
              "          if (!dataTable) return;\n",
              "\n",
              "          const docLinkHtml = 'Like what you see? Visit the ' +\n",
              "            '<a target=\"_blank\" href=https://colab.research.google.com/notebooks/data_table.ipynb>data table notebook</a>'\n",
              "            + ' to learn more about interactive tables.';\n",
              "          element.innerHTML = '';\n",
              "          dataTable['output_type'] = 'display_data';\n",
              "          await google.colab.output.renderOutput(dataTable, element);\n",
              "          const docLink = document.createElement('div');\n",
              "          docLink.innerHTML = docLinkHtml;\n",
              "          element.appendChild(docLink);\n",
              "        }\n",
              "      </script>\n",
              "    </div>\n",
              "  </div>\n",
              "  "
            ]
          },
          "metadata": {},
          "execution_count": 209
        }
      ]
    },
    {
      "cell_type": "code",
      "source": [
        "#Remove NaN from review_scores_rating\n",
        "# Create the dataframe\n",
        "data = data.dropna(subset=['review_scores_rating'])\n",
        "# dropping the rows having NaN values\n",
        "data = data.dropna()\n",
        "# printing the result\n",
        "data"
      ],
      "metadata": {
        "colab": {
          "base_uri": "https://localhost:8080/",
          "height": 424
        },
        "id": "LRQuF_iBDesQ",
        "outputId": "641a6110-6d21-40f9-a985-86f16245af85"
      },
      "execution_count": 246,
      "outputs": [
        {
          "output_type": "execute_result",
          "data": {
            "text/plain": [
              "       log_price        id  review_scores_rating  number_of_reviews  \\\n",
              "0       5.010635   6901257                 100.0                  2   \n",
              "1       5.129899   6304928                  93.0                  6   \n",
              "2       4.976734   7919400                  92.0                 10   \n",
              "4       4.744932   3808709                  40.0                  4   \n",
              "5       4.442651  12422935                 100.0                  3   \n",
              "...          ...       ...                   ...                ...   \n",
              "74104   4.356709  14934112                 100.0                  6   \n",
              "74105   4.248495    808802                  91.0                 36   \n",
              "74107   5.043425  13281809                  93.0                 16   \n",
              "74108   5.220356  18688039                  94.0                 43   \n",
              "74110   4.852030   3534845                  96.0                205   \n",
              "\n",
              "       accommodates  bathrooms  \n",
              "0                 3        1.0  \n",
              "1                 7        1.0  \n",
              "2                 5        1.0  \n",
              "4                 2        1.0  \n",
              "5                 2        1.0  \n",
              "...             ...        ...  \n",
              "74104             2        1.0  \n",
              "74105             2        1.0  \n",
              "74107             4        2.0  \n",
              "74108             5        1.0  \n",
              "74110             4        1.0  \n",
              "\n",
              "[57230 rows x 6 columns]"
            ],
            "text/html": [
              "\n",
              "  <div id=\"df-53cfaf7d-e769-4663-93e4-8593a653577c\">\n",
              "    <div class=\"colab-df-container\">\n",
              "      <div>\n",
              "<style scoped>\n",
              "    .dataframe tbody tr th:only-of-type {\n",
              "        vertical-align: middle;\n",
              "    }\n",
              "\n",
              "    .dataframe tbody tr th {\n",
              "        vertical-align: top;\n",
              "    }\n",
              "\n",
              "    .dataframe thead th {\n",
              "        text-align: right;\n",
              "    }\n",
              "</style>\n",
              "<table border=\"1\" class=\"dataframe\">\n",
              "  <thead>\n",
              "    <tr style=\"text-align: right;\">\n",
              "      <th></th>\n",
              "      <th>log_price</th>\n",
              "      <th>id</th>\n",
              "      <th>review_scores_rating</th>\n",
              "      <th>number_of_reviews</th>\n",
              "      <th>accommodates</th>\n",
              "      <th>bathrooms</th>\n",
              "    </tr>\n",
              "  </thead>\n",
              "  <tbody>\n",
              "    <tr>\n",
              "      <th>0</th>\n",
              "      <td>5.010635</td>\n",
              "      <td>6901257</td>\n",
              "      <td>100.0</td>\n",
              "      <td>2</td>\n",
              "      <td>3</td>\n",
              "      <td>1.0</td>\n",
              "    </tr>\n",
              "    <tr>\n",
              "      <th>1</th>\n",
              "      <td>5.129899</td>\n",
              "      <td>6304928</td>\n",
              "      <td>93.0</td>\n",
              "      <td>6</td>\n",
              "      <td>7</td>\n",
              "      <td>1.0</td>\n",
              "    </tr>\n",
              "    <tr>\n",
              "      <th>2</th>\n",
              "      <td>4.976734</td>\n",
              "      <td>7919400</td>\n",
              "      <td>92.0</td>\n",
              "      <td>10</td>\n",
              "      <td>5</td>\n",
              "      <td>1.0</td>\n",
              "    </tr>\n",
              "    <tr>\n",
              "      <th>4</th>\n",
              "      <td>4.744932</td>\n",
              "      <td>3808709</td>\n",
              "      <td>40.0</td>\n",
              "      <td>4</td>\n",
              "      <td>2</td>\n",
              "      <td>1.0</td>\n",
              "    </tr>\n",
              "    <tr>\n",
              "      <th>5</th>\n",
              "      <td>4.442651</td>\n",
              "      <td>12422935</td>\n",
              "      <td>100.0</td>\n",
              "      <td>3</td>\n",
              "      <td>2</td>\n",
              "      <td>1.0</td>\n",
              "    </tr>\n",
              "    <tr>\n",
              "      <th>...</th>\n",
              "      <td>...</td>\n",
              "      <td>...</td>\n",
              "      <td>...</td>\n",
              "      <td>...</td>\n",
              "      <td>...</td>\n",
              "      <td>...</td>\n",
              "    </tr>\n",
              "    <tr>\n",
              "      <th>74104</th>\n",
              "      <td>4.356709</td>\n",
              "      <td>14934112</td>\n",
              "      <td>100.0</td>\n",
              "      <td>6</td>\n",
              "      <td>2</td>\n",
              "      <td>1.0</td>\n",
              "    </tr>\n",
              "    <tr>\n",
              "      <th>74105</th>\n",
              "      <td>4.248495</td>\n",
              "      <td>808802</td>\n",
              "      <td>91.0</td>\n",
              "      <td>36</td>\n",
              "      <td>2</td>\n",
              "      <td>1.0</td>\n",
              "    </tr>\n",
              "    <tr>\n",
              "      <th>74107</th>\n",
              "      <td>5.043425</td>\n",
              "      <td>13281809</td>\n",
              "      <td>93.0</td>\n",
              "      <td>16</td>\n",
              "      <td>4</td>\n",
              "      <td>2.0</td>\n",
              "    </tr>\n",
              "    <tr>\n",
              "      <th>74108</th>\n",
              "      <td>5.220356</td>\n",
              "      <td>18688039</td>\n",
              "      <td>94.0</td>\n",
              "      <td>43</td>\n",
              "      <td>5</td>\n",
              "      <td>1.0</td>\n",
              "    </tr>\n",
              "    <tr>\n",
              "      <th>74110</th>\n",
              "      <td>4.852030</td>\n",
              "      <td>3534845</td>\n",
              "      <td>96.0</td>\n",
              "      <td>205</td>\n",
              "      <td>4</td>\n",
              "      <td>1.0</td>\n",
              "    </tr>\n",
              "  </tbody>\n",
              "</table>\n",
              "<p>57230 rows × 6 columns</p>\n",
              "</div>\n",
              "      <button class=\"colab-df-convert\" onclick=\"convertToInteractive('df-53cfaf7d-e769-4663-93e4-8593a653577c')\"\n",
              "              title=\"Convert this dataframe to an interactive table.\"\n",
              "              style=\"display:none;\">\n",
              "        \n",
              "  <svg xmlns=\"http://www.w3.org/2000/svg\" height=\"24px\"viewBox=\"0 0 24 24\"\n",
              "       width=\"24px\">\n",
              "    <path d=\"M0 0h24v24H0V0z\" fill=\"none\"/>\n",
              "    <path d=\"M18.56 5.44l.94 2.06.94-2.06 2.06-.94-2.06-.94-.94-2.06-.94 2.06-2.06.94zm-11 1L8.5 8.5l.94-2.06 2.06-.94-2.06-.94L8.5 2.5l-.94 2.06-2.06.94zm10 10l.94 2.06.94-2.06 2.06-.94-2.06-.94-.94-2.06-.94 2.06-2.06.94z\"/><path d=\"M17.41 7.96l-1.37-1.37c-.4-.4-.92-.59-1.43-.59-.52 0-1.04.2-1.43.59L10.3 9.45l-7.72 7.72c-.78.78-.78 2.05 0 2.83L4 21.41c.39.39.9.59 1.41.59.51 0 1.02-.2 1.41-.59l7.78-7.78 2.81-2.81c.8-.78.8-2.07 0-2.86zM5.41 20L4 18.59l7.72-7.72 1.47 1.35L5.41 20z\"/>\n",
              "  </svg>\n",
              "      </button>\n",
              "      \n",
              "  <style>\n",
              "    .colab-df-container {\n",
              "      display:flex;\n",
              "      flex-wrap:wrap;\n",
              "      gap: 12px;\n",
              "    }\n",
              "\n",
              "    .colab-df-convert {\n",
              "      background-color: #E8F0FE;\n",
              "      border: none;\n",
              "      border-radius: 50%;\n",
              "      cursor: pointer;\n",
              "      display: none;\n",
              "      fill: #1967D2;\n",
              "      height: 32px;\n",
              "      padding: 0 0 0 0;\n",
              "      width: 32px;\n",
              "    }\n",
              "\n",
              "    .colab-df-convert:hover {\n",
              "      background-color: #E2EBFA;\n",
              "      box-shadow: 0px 1px 2px rgba(60, 64, 67, 0.3), 0px 1px 3px 1px rgba(60, 64, 67, 0.15);\n",
              "      fill: #174EA6;\n",
              "    }\n",
              "\n",
              "    [theme=dark] .colab-df-convert {\n",
              "      background-color: #3B4455;\n",
              "      fill: #D2E3FC;\n",
              "    }\n",
              "\n",
              "    [theme=dark] .colab-df-convert:hover {\n",
              "      background-color: #434B5C;\n",
              "      box-shadow: 0px 1px 3px 1px rgba(0, 0, 0, 0.15);\n",
              "      filter: drop-shadow(0px 1px 2px rgba(0, 0, 0, 0.3));\n",
              "      fill: #FFFFFF;\n",
              "    }\n",
              "  </style>\n",
              "\n",
              "      <script>\n",
              "        const buttonEl =\n",
              "          document.querySelector('#df-53cfaf7d-e769-4663-93e4-8593a653577c button.colab-df-convert');\n",
              "        buttonEl.style.display =\n",
              "          google.colab.kernel.accessAllowed ? 'block' : 'none';\n",
              "\n",
              "        async function convertToInteractive(key) {\n",
              "          const element = document.querySelector('#df-53cfaf7d-e769-4663-93e4-8593a653577c');\n",
              "          const dataTable =\n",
              "            await google.colab.kernel.invokeFunction('convertToInteractive',\n",
              "                                                     [key], {});\n",
              "          if (!dataTable) return;\n",
              "\n",
              "          const docLinkHtml = 'Like what you see? Visit the ' +\n",
              "            '<a target=\"_blank\" href=https://colab.research.google.com/notebooks/data_table.ipynb>data table notebook</a>'\n",
              "            + ' to learn more about interactive tables.';\n",
              "          element.innerHTML = '';\n",
              "          dataTable['output_type'] = 'display_data';\n",
              "          await google.colab.output.renderOutput(dataTable, element);\n",
              "          const docLink = document.createElement('div');\n",
              "          docLink.innerHTML = docLinkHtml;\n",
              "          element.appendChild(docLink);\n",
              "        }\n",
              "      </script>\n",
              "    </div>\n",
              "  </div>\n",
              "  "
            ]
          },
          "metadata": {},
          "execution_count": 246
        }
      ]
    },
    {
      "cell_type": "code",
      "source": [
        "#plot data with its value count\n",
        "data.hist(figsize = (10,10))"
      ],
      "metadata": {
        "colab": {
          "base_uri": "https://localhost:8080/",
          "height": 732
        },
        "id": "08zOojdDEVMT",
        "outputId": "0ad5cc8d-f91b-49cc-91f7-19aa21b9259a"
      },
      "execution_count": 245,
      "outputs": [
        {
          "output_type": "execute_result",
          "data": {
            "text/plain": [
              "array([[<matplotlib.axes._subplots.AxesSubplot object at 0x7f741efb6410>,\n",
              "        <matplotlib.axes._subplots.AxesSubplot object at 0x7f741efae9d0>],\n",
              "       [<matplotlib.axes._subplots.AxesSubplot object at 0x7f7421d38750>,\n",
              "        <matplotlib.axes._subplots.AxesSubplot object at 0x7f74222cee10>],\n",
              "       [<matplotlib.axes._subplots.AxesSubplot object at 0x7f7422159b10>,\n",
              "        <matplotlib.axes._subplots.AxesSubplot object at 0x7f7422185b50>]],\n",
              "      dtype=object)"
            ]
          },
          "metadata": {},
          "execution_count": 245
        },
        {
          "output_type": "display_data",
          "data": {
            "text/plain": [
              "<Figure size 720x720 with 6 Axes>"
            ],
            "image/png": "[encoded data removed]"
          },
          "metadata": {
            "needs_background": "light"
          }
        }
      ]
    },
    {
      "cell_type": "code",
      "source": [
        "plt.scatter(data['review_scores_rating'], data['log_price'])\n",
        "plt.xlabel(\"reiview_scores_rating\")\n",
        "plt.ylabel(\"log_price\")\n",
        "plt.show()"
      ],
      "metadata": {
        "colab": {
          "base_uri": "https://localhost:8080/",
          "height": 280
        },
        "id": "_B7QyJG2F9LT",
        "outputId": "ee304c50-94b4-42d4-b199-554f89029ab9"
      },
      "execution_count": 107,
      "outputs": [
        {
          "output_type": "display_data",
          "data": {
            "text/plain": [
              "<Figure size 432x288 with 1 Axes>"
            ],
            "image/png": "[encoded data removed]"
          },
          "metadata": {
            "needs_background": "light"
          }
        }
      ]
    },
    {
      "cell_type": "code",
      "source": [
        "plt.scatter(data['id'], data['log_price'])\n",
        "plt.xlabel(\"id\")\n",
        "plt.ylabel(\"log_price\")\n",
        "plt.show()"
      ],
      "metadata": {
        "colab": {
          "base_uri": "https://localhost:8080/",
          "height": 279
        },
        "id": "4FApA-nhLBIb",
        "outputId": "8e0f9dc3-cfcc-4e69-af31-38c22bcedfb9"
      },
      "execution_count": 108,
      "outputs": [
        {
          "output_type": "display_data",
          "data": {
            "text/plain": [
              "<Figure size 432x288 with 1 Axes>"
            ],
            "image/png": "[encoded data removed]"
          },
          "metadata": {
            "needs_background": "light"
          }
        }
      ]
    },
    {
      "cell_type": "code",
      "source": [
        "plt.scatter(data['accommodates'], data['log_price'])\n",
        "plt.xlabel(\"accommodates\")\n",
        "plt.ylabel(\"log_price\")\n",
        "plt.show()"
      ],
      "metadata": {
        "colab": {
          "base_uri": "https://localhost:8080/",
          "height": 279
        },
        "id": "vS4NZ2OCueY3",
        "outputId": "9b4b6a81-11c9-42c7-e9ca-52fb2d756b68"
      },
      "execution_count": 109,
      "outputs": [
        {
          "output_type": "display_data",
          "data": {
            "text/plain": [
              "<Figure size 432x288 with 1 Axes>"
            ],
            "image/png": "[encoded data removed]"
          },
          "metadata": {
            "needs_background": "light"
          }
        }
      ]
    },
    {
      "cell_type": "code",
      "source": [
        "plt.scatter(data['bathrooms'], data['log_price'])\n",
        "plt.xlabel(\"bathrooms\")\n",
        "plt.ylabel(\"log_price\")\n",
        "plt.show()"
      ],
      "metadata": {
        "colab": {
          "base_uri": "https://localhost:8080/",
          "height": 279
        },
        "id": "p0kZpsYo6LYU",
        "outputId": "dd059f14-01b3-430a-e7b5-f5e5769fee79"
      },
      "execution_count": 193,
      "outputs": [
        {
          "output_type": "display_data",
          "data": {
            "text/plain": [
              "<Figure size 432x288 with 1 Axes>"
            ],
            "image/png": "[encoded data removed]"
          },
          "metadata": {
            "needs_background": "light"
          }
        }
      ]
    },
    {
      "cell_type": "code",
      "source": [
        "#80% data for training and 20% for testing\n",
        "train = data[:(int((len(data)*0.8)))]\n",
        "test = data[(int((len(data)*0.8))):]\n",
        "\n",
        "print(\"Training Data: \", train.shape)\n",
        "print(\"Testing Data: \", test.shape)\n",
        "print(\"Total Data: \", data.shape)"
      ],
      "metadata": {
        "colab": {
          "base_uri": "https://localhost:8080/"
        },
        "id": "dQTsXt3-LObA",
        "outputId": "1f967ade-1ba8-4d33-c15e-71b7dc6fbaa2"
      },
      "execution_count": 236,
      "outputs": [
        {
          "output_type": "stream",
          "name": "stdout",
          "text": [
            "Training Data:  (59288, 6)\n",
            "Testing Data:  (14823, 6)\n",
            "Total Data:  (74111, 6)\n"
          ]
        }
      ]
    },
    {
      "cell_type": "code",
      "source": [
        "#finding the mean of log_price\n",
        "price = data['log_price']\n",
        "sum_price = price.sum()\n",
        "num_places = len(price)\n",
        "avg_prices1 = sum_price/num_places\n",
        "avg_prices2 = price.mean()\n",
        "print(avg_prices1)\n",
        "print(avg_prices2)"
      ],
      "metadata": {
        "colab": {
          "base_uri": "https://localhost:8080/"
        },
        "id": "1GQvirCQBizD",
        "outputId": "4b82f3e8-b26f-469a-fad9-533ec3244a1c"
      },
      "execution_count": 237,
      "outputs": [
        {
          "output_type": "stream",
          "name": "stdout",
          "text": [
            "4.782069108305636\n",
            "4.782069108305636\n"
          ]
        }
      ]
    },
    {
      "cell_type": "code",
      "source": [
        "from seaborn.widgets import interact\n",
        "#main function to find slope and intercept\n",
        "def simple_linear_regression(intput_feature, output):\n",
        "  Xi = intput_feature\n",
        "  Yi = output\n",
        "  N = len(Xi)\n",
        "\n",
        "  Yi_mean = Yi.mean()\n",
        "  Xi_mean = Xi.mean()\n",
        "\n",
        "  S_YiXi = (Yi * Xi).sum()\n",
        "  Yi_Xi_ByN = (Xi.sum() * Xi.sum()) / N\n",
        "\n",
        "  S_XiXi = (Xi * Xi).sum()\n",
        "  XiXi_ByN = (Xi.sum() * Xi.sum()) / N\n",
        "\n",
        "  slope = (S_YiXi - Yi_Xi_ByN) / (S_XiXi - XiXi_ByN)\n",
        "\n",
        "  intercept = Yi_mean - slope * Xi_mean\n",
        "\n",
        "  return (intercept, slope)"
      ],
      "metadata": {
        "id": "Uuw9RavDN6VP"
      },
      "execution_count": 238,
      "outputs": []
    },
    {
      "cell_type": "code",
      "source": [
        "#testing the function with data\n",
        "test_feature = np.array(range(5))\n",
        "test_output = np.array(1 + 1 * test_feature)\n",
        "\n",
        "(test_intercept, test_slope) = simple_linear_regression(test_feature, test_output)\n",
        "\n",
        "print(\"Intercept: \", test_intercept)\n",
        "print(\"Slope: \", test_slope)"
      ],
      "metadata": {
        "colab": {
          "base_uri": "https://localhost:8080/"
        },
        "id": "xgsVeESIQT4G",
        "outputId": "9f5a1344-46b5-4fed-d932-4639293fd1ba"
      },
      "execution_count": 239,
      "outputs": [
        {
          "output_type": "stream",
          "name": "stdout",
          "text": [
            "Intercept:  -1.0\n",
            "Slope:  2.0\n"
          ]
        }
      ]
    },
    {
      "cell_type": "markdown",
      "source": [
        "#Inspect the negative values and why do i have them...!"
      ],
      "metadata": {
        "id": "Z0MgLG2zr8bI"
      }
    },
    {
      "cell_type": "code",
      "source": [
        "#finding the slope and intercept for our actual data\n",
        "log_intercept, log_slope = simple_linear_regression(train['log_price'], train['review_scores_rating'])\n",
        "\n",
        "print(\"Intercept: \", log_intercept)\n",
        "print(\"Slope: \", log_slope)"
      ],
      "metadata": {
        "colab": {
          "base_uri": "https://localhost:8080/"
        },
        "id": "oMq-0pwBRUVU",
        "outputId": "0af6a9d0-c31a-41b3-e7a0-ec07b833c844"
      },
      "execution_count": 240,
      "outputs": [
        {
          "output_type": "stream",
          "name": "stdout",
          "text": [
            "Intercept:  -2914.7989028350694\n",
            "Slope:  629.2809407494013\n"
          ]
        }
      ]
    },
    {
      "cell_type": "code",
      "source": [
        "#Equation of line:\n",
        "print(\"Y = \", log_intercept, \"*X + \", log_slope)"
      ],
      "metadata": {
        "id": "AxouOek1c_yR",
        "colab": {
          "base_uri": "https://localhost:8080/"
        },
        "outputId": "71f24756-1dca-42e9-970b-dd218baf46b5"
      },
      "execution_count": 241,
      "outputs": [
        {
          "output_type": "stream",
          "name": "stdout",
          "text": [
            "Y =  -2914.7989028350694 *X +  629.2809407494013\n"
          ]
        }
      ]
    },
    {
      "cell_type": "code",
      "source": [
        "#plot the regression line to visualize it\n",
        "#plotting regression line with data points\n",
        "\n",
        "plt.scatter(train.review_scores_rating, train.log_price, color = \"blue\")\n",
        "plt.plot(train[\"review_scores_rating\"], log_slope*train[\"review_scores_rating\"] + log_intercept, '-r')\n",
        "plt.xlabel(\"review_scores_rating\")\n",
        "plt.ylabel(\"Log Price\")"
      ],
      "metadata": {
        "colab": {
          "base_uri": "https://localhost:8080/",
          "height": 298
        },
        "id": "VefnlQCVr6QP",
        "outputId": "e2a08ab9-c3fc-43b6-a46b-859d7acb7b0d"
      },
      "execution_count": 242,
      "outputs": [
        {
          "output_type": "execute_result",
          "data": {
            "text/plain": [
              "Text(0, 0.5, 'Log Price')"
            ]
          },
          "metadata": {},
          "execution_count": 242
        },
        {
          "output_type": "display_data",
          "data": {
            "text/plain": [
              "<Figure size 432x288 with 1 Axes>"
            ],
            "image/png": "[encoded data removed]"
          },
          "metadata": {
            "needs_background": "light"
          }
        }
      ]
    },
    {
      "cell_type": "code",
      "source": [
        "#predict the values with our model\n",
        "def get_regression_predictions(intput_feature, intercept, slope):\n",
        "  predicted_values = intput_feature * slope + intercept\n",
        "\n",
        "  return predicted_values"
      ],
      "metadata": {
        "id": "MLjJMm6xttF8"
      },
      "execution_count": 243,
      "outputs": []
    },
    {
      "cell_type": "code",
      "source": [
        "my_review = 10\n",
        "\n",
        "estimatd_log_price = get_regression_predictions(my_review, log_intercept, log_slope)\n",
        "print(\"Estimated Log Price: \", estimatd_log_price)"
      ],
      "metadata": {
        "colab": {
          "base_uri": "https://localhost:8080/"
        },
        "id": "sdcrlTMeChbx",
        "outputId": "54df60e9-c35b-4358-8c0f-e2eb9b1b550d"
      },
      "execution_count": 247,
      "outputs": [
        {
          "output_type": "stream",
          "name": "stdout",
          "text": [
            "Estimated Log Price:  3378.0105046589442\n"
          ]
        }
      ]
    },
    {
      "cell_type": "code",
      "source": [
        "# Here are methods in how our prediction performance is testing the values. Error/accuracy\n",
        "\n",
        "#calculating the error in prediction:\n",
        "def residual_sum_of_squares(intput_feature, output, intercept, slope):\n",
        "  prediction = intput_feature * slope + intercept\n",
        "\n",
        "  residual = output - prediction\n",
        "  RSS = (residual * residual).sum()\n",
        "\n",
        "  return (RSS)"
      ],
      "metadata": {
        "id": "dfPFqSltDovc"
      },
      "execution_count": 248,
      "outputs": []
    },
    {
      "cell_type": "code",
      "source": [
        "#calculate the error for our test dataset\n",
        "print(residual_sum_of_squares(test[\"review_scores_rating\"], test['log_price'], log_intercept, log_slope))"
      ],
      "metadata": {
        "colab": {
          "base_uri": "https://localhost:8080/"
        },
        "id": "OULxUPePEnQM",
        "outputId": "77dd996e-b250-46ab-df48-5fff60152c08"
      },
      "execution_count": 250,
      "outputs": [
        {
          "output_type": "stream",
          "name": "stdout",
          "text": [
            "36614148253536.14\n"
          ]
        }
      ]
    },
    {
      "cell_type": "code",
      "source": [
        "#calculate the error for our train dataset\n",
        "print(residual_sum_of_squares(test[\"review_scores_rating\"], test['log_price'], log_intercept, log_slope))"
      ],
      "metadata": {
        "id": "dvc4x2PCFA6U"
      },
      "execution_count": null,
      "outputs": []
    }
  ]
}