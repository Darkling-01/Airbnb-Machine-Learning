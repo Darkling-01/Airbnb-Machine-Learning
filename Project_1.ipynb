{
  "nbformat": 4,
  "nbformat_minor": 0,
  "metadata": {
    "colab": {
      "provenance": [],
      "collapsed_sections": [],
      "authorship_tag": "ABX9TyPtEkhAYWx48Ew+UAoFqj1i",
      "include_colab_link": true
    },
    "kernelspec": {
      "name": "python3",
      "display_name": "Python 3"
    },
    "language_info": {
      "name": "python"
    }
  },
  "cells": [
    {
      "cell_type": "markdown",
      "metadata": {
        "id": "view-in-github",
        "colab_type": "text"
      },
      "source": [
        "<a href=\"https://colab.research.google.com/github/Darkling-01/Airbnb-Machine-Learning/blob/main/Project_1.ipynb\" target=\"_parent\"><img src=\"https://colab.research.google.com/assets/colab-badge.svg\" alt=\"Open In Colab\"/></a>"
      ]
    },
    {
      "cell_type": "markdown",
      "source": [
        "This project is for Machine Learning CSE5160"
      ],
      "metadata": {
        "id": "62KGNWbEwZHy"
      }
    },
    {
      "cell_type": "code",
      "execution_count": 16,
      "metadata": {
        "id": "RoFOTrISwYdn",
        "colab": {
          "base_uri": "https://localhost:8080/"
        },
        "outputId": "63c7697c-e905-4548-d964-17766131a84d"
      },
      "outputs": [
        {
          "output_type": "stream",
          "name": "stdout",
          "text": [
            "SETUP COMPLETE...\n"
          ]
        }
      ],
      "source": [
        "import pandas as pd\n",
        "import numpy as np\n",
        "import matplotlib.pyplot as plt\n",
        "import seaborn as sns\n",
        "import math\n",
        "\n",
        "from google.colab import files\n",
        "\n",
        "print(\"SETUP COMPLETE...\")"
      ]
    },
    {
      "cell_type": "code",
      "source": [
        "data = files.upload()"
      ],
      "metadata": {
        "colab": {
          "base_uri": "https://localhost:8080/",
          "height": 74
        },
        "id": "RAAHoFf49jnO",
        "outputId": "e43268e0-3471-49c5-d91c-70cc1933e196"
      },
      "execution_count": 5,
      "outputs": [
        {
          "output_type": "display_data",
          "data": {
            "text/plain": [
              "<IPython.core.display.HTML object>"
            ],
            "text/html": [
              "\n",
              "     <input type=\"file\" id=\"files-a769ae9d-6fdf-4acf-99a6-deb9abbbb678\" name=\"files[]\" multiple disabled\n",
              "        style=\"border:none\" />\n",
              "     <output id=\"result-a769ae9d-6fdf-4acf-99a6-deb9abbbb678\">\n",
              "      Upload widget is only available when the cell has been executed in the\n",
              "      current browser session. Please rerun this cell to enable.\n",
              "      </output>\n",
              "      <script>// Copyright 2017 Google LLC\n",
              "//\n",
              "// Licensed under the Apache License, Version 2.0 (the \"License\");\n",
              "// you may not use this file except in compliance with the License.\n",
              "// You may obtain a copy of the License at\n",
              "//\n",
              "//      http://www.apache.org/licenses/LICENSE-2.0\n",
              "//\n",
              "// Unless required by applicable law or agreed to in writing, software\n",
              "// distributed under the License is distributed on an \"AS IS\" BASIS,\n",
              "// WITHOUT WARRANTIES OR CONDITIONS OF ANY KIND, either express or implied.\n",
              "// See the License for the specific language governing permissions and\n",
              "// limitations under the License.\n",
              "\n",
              "/**\n",
              " * @fileoverview Helpers for google.colab Python module.\n",
              " */\n",
              "(function(scope) {\n",
              "function span(text, styleAttributes = {}) {\n",
              "  const element = document.createElement('span');\n",
              "  element.textContent = text;\n",
              "  for (const key of Object.keys(styleAttributes)) {\n",
              "    element.style[key] = styleAttributes[key];\n",
              "  }\n",
              "  return element;\n",
              "}\n",
              "\n",
              "// Max number of bytes which will be uploaded at a time.\n",
              "const MAX_PAYLOAD_SIZE = 100 * 1024;\n",
              "\n",
              "function _uploadFiles(inputId, outputId) {\n",
              "  const steps = uploadFilesStep(inputId, outputId);\n",
              "  const outputElement = document.getElementById(outputId);\n",
              "  // Cache steps on the outputElement to make it available for the next call\n",
              "  // to uploadFilesContinue from Python.\n",
              "  outputElement.steps = steps;\n",
              "\n",
              "  return _uploadFilesContinue(outputId);\n",
              "}\n",
              "\n",
              "// This is roughly an async generator (not supported in the browser yet),\n",
              "// where there are multiple asynchronous steps and the Python side is going\n",
              "// to poll for completion of each step.\n",
              "// This uses a Promise to block the python side on completion of each step,\n",
              "// then passes the result of the previous step as the input to the next step.\n",
              "function _uploadFilesContinue(outputId) {\n",
              "  const outputElement = document.getElementById(outputId);\n",
              "  const steps = outputElement.steps;\n",
              "\n",
              "  const next = steps.next(outputElement.lastPromiseValue);\n",
              "  return Promise.resolve(next.value.promise).then((value) => {\n",
              "    // Cache the last promise value to make it available to the next\n",
              "    // step of the generator.\n",
              "    outputElement.lastPromiseValue = value;\n",
              "    return next.value.response;\n",
              "  });\n",
              "}\n",
              "\n",
              "/**\n",
              " * Generator function which is called between each async step of the upload\n",
              " * process.\n",
              " * @param {string} inputId Element ID of the input file picker element.\n",
              " * @param {string} outputId Element ID of the output display.\n",
              " * @return {!Iterable<!Object>} Iterable of next steps.\n",
              " */\n",
              "function* uploadFilesStep(inputId, outputId) {\n",
              "  const inputElement = document.getElementById(inputId);\n",
              "  inputElement.disabled = false;\n",
              "\n",
              "  const outputElement = document.getElementById(outputId);\n",
              "  outputElement.innerHTML = '';\n",
              "\n",
              "  const pickedPromise = new Promise((resolve) => {\n",
              "    inputElement.addEventListener('change', (e) => {\n",
              "      resolve(e.target.files);\n",
              "    });\n",
              "  });\n",
              "\n",
              "  const cancel = document.createElement('button');\n",
              "  inputElement.parentElement.appendChild(cancel);\n",
              "  cancel.textContent = 'Cancel upload';\n",
              "  const cancelPromise = new Promise((resolve) => {\n",
              "    cancel.onclick = () => {\n",
              "      resolve(null);\n",
              "    };\n",
              "  });\n",
              "\n",
              "  // Wait for the user to pick the files.\n",
              "  const files = yield {\n",
              "    promise: Promise.race([pickedPromise, cancelPromise]),\n",
              "    response: {\n",
              "      action: 'starting',\n",
              "    }\n",
              "  };\n",
              "\n",
              "  cancel.remove();\n",
              "\n",
              "  // Disable the input element since further picks are not allowed.\n",
              "  inputElement.disabled = true;\n",
              "\n",
              "  if (!files) {\n",
              "    return {\n",
              "      response: {\n",
              "        action: 'complete',\n",
              "      }\n",
              "    };\n",
              "  }\n",
              "\n",
              "  for (const file of files) {\n",
              "    const li = document.createElement('li');\n",
              "    li.append(span(file.name, {fontWeight: 'bold'}));\n",
              "    li.append(span(\n",
              "        `(${file.type || 'n/a'}) - ${file.size} bytes, ` +\n",
              "        `last modified: ${\n",
              "            file.lastModifiedDate ? file.lastModifiedDate.toLocaleDateString() :\n",
              "                                    'n/a'} - `));\n",
              "    const percent = span('0% done');\n",
              "    li.appendChild(percent);\n",
              "\n",
              "    outputElement.appendChild(li);\n",
              "\n",
              "    const fileDataPromise = new Promise((resolve) => {\n",
              "      const reader = new FileReader();\n",
              "      reader.onload = (e) => {\n",
              "        resolve(e.target.result);\n",
              "      };\n",
              "      reader.readAsArrayBuffer(file);\n",
              "    });\n",
              "    // Wait for the data to be ready.\n",
              "    let fileData = yield {\n",
              "      promise: fileDataPromise,\n",
              "      response: {\n",
              "        action: 'continue',\n",
              "      }\n",
              "    };\n",
              "\n",
              "    // Use a chunked sending to avoid message size limits. See b/62115660.\n",
              "    let position = 0;\n",
              "    do {\n",
              "      const length = Math.min(fileData.byteLength - position, MAX_PAYLOAD_SIZE);\n",
              "      const chunk = new Uint8Array(fileData, position, length);\n",
              "      position += length;\n",
              "\n",
              "      const base64 = btoa(String.fromCharCode.apply(null, chunk));\n",
              "      yield {\n",
              "        response: {\n",
              "          action: 'append',\n",
              "          file: file.name,\n",
              "          data: base64,\n",
              "        },\n",
              "      };\n",
              "\n",
              "      let percentDone = fileData.byteLength === 0 ?\n",
              "          100 :\n",
              "          Math.round((position / fileData.byteLength) * 100);\n",
              "      percent.textContent = `${percentDone}% done`;\n",
              "\n",
              "    } while (position < fileData.byteLength);\n",
              "  }\n",
              "\n",
              "  // All done.\n",
              "  yield {\n",
              "    response: {\n",
              "      action: 'complete',\n",
              "    }\n",
              "  };\n",
              "}\n",
              "\n",
              "scope.google = scope.google || {};\n",
              "scope.google.colab = scope.google.colab || {};\n",
              "scope.google.colab._files = {\n",
              "  _uploadFiles,\n",
              "  _uploadFilesContinue,\n",
              "};\n",
              "})(self);\n",
              "</script> "
            ]
          },
          "metadata": {}
        },
        {
          "output_type": "stream",
          "name": "stdout",
          "text": [
            "Saving airbnb_data.csv to airbnb_data.csv\n"
          ]
        }
      ]
    },
    {
      "cell_type": "code",
      "source": [
        "dataset = pd.read_csv(\"airbnb_data.csv\") \n",
        "dataset.shape"
      ],
      "metadata": {
        "id": "6GvEqhq1RNun",
        "colab": {
          "base_uri": "https://localhost:8080/"
        },
        "outputId": "552faa64-c1d4-43fc-fc7c-9893f5149bb2"
      },
      "execution_count": 17,
      "outputs": [
        {
          "output_type": "execute_result",
          "data": {
            "text/plain": [
              "(74111, 29)"
            ]
          },
          "metadata": {},
          "execution_count": 17
        }
      ]
    },
    {
      "cell_type": "code",
      "source": [
        "dataset.head()"
      ],
      "metadata": {
        "colab": {
          "base_uri": "https://localhost:8080/",
          "height": 543
        },
        "id": "IWHlSQzHjb2D",
        "outputId": "d0300394-493e-4cea-fc4f-9f4a38c765da"
      },
      "execution_count": 18,
      "outputs": [
        {
          "output_type": "execute_result",
          "data": {
            "text/plain": [
              "         id  log_price property_type        room_type  \\\n",
              "0   6901257   5.010635     Apartment  Entire home/apt   \n",
              "1   6304928   5.129899     Apartment  Entire home/apt   \n",
              "2   7919400   4.976734     Apartment  Entire home/apt   \n",
              "3  13418779   6.620073         House  Entire home/apt   \n",
              "4   3808709   4.744932     Apartment  Entire home/apt   \n",
              "\n",
              "                                           amenities  accommodates  bathrooms  \\\n",
              "0  {\"Wireless Internet\",\"Air conditioning\",Kitche...             3        1.0   \n",
              "1  {\"Wireless Internet\",\"Air conditioning\",Kitche...             7        1.0   \n",
              "2  {TV,\"Cable TV\",\"Wireless Internet\",\"Air condit...             5        1.0   \n",
              "3  {TV,\"Cable TV\",Internet,\"Wireless Internet\",Ki...             4        1.0   \n",
              "4  {TV,Internet,\"Wireless Internet\",\"Air conditio...             2        1.0   \n",
              "\n",
              "   bed_type cancellation_policy  cleaning_fee  ...   latitude   longitude  \\\n",
              "0  Real Bed              strict          True  ...  40.696524  -73.991617   \n",
              "1  Real Bed              strict          True  ...  40.766115  -73.989040   \n",
              "2  Real Bed            moderate          True  ...  40.808110  -73.943756   \n",
              "3  Real Bed            flexible          True  ...  37.772004 -122.431619   \n",
              "4  Real Bed            moderate          True  ...  38.925627  -77.034596   \n",
              "\n",
              "                                       name     neighbourhood  \\\n",
              "0            Beautiful brownstone 1-bedroom  Brooklyn Heights   \n",
              "1  Superb 3BR Apt Located Near Times Square    Hell's Kitchen   \n",
              "2                          The Garden Oasis            Harlem   \n",
              "3        Beautiful Flat in the Heart of SF!      Lower Haight   \n",
              "4                Great studio in midtown DC  Columbia Heights   \n",
              "\n",
              "  number_of_reviews review_scores_rating  \\\n",
              "0                 2                100.0   \n",
              "1                 6                 93.0   \n",
              "2                10                 92.0   \n",
              "3                 0                  NaN   \n",
              "4                 4                 40.0   \n",
              "\n",
              "                                       thumbnail_url  zipcode bedrooms  beds  \n",
              "0  https://a0.muscache.com/im/pictures/6d7cbbf7-c...    11201      1.0   1.0  \n",
              "1  https://a0.muscache.com/im/pictures/348a55fe-4...    10019      3.0   3.0  \n",
              "2  https://a0.muscache.com/im/pictures/6fae5362-9...    10027      1.0   3.0  \n",
              "3  https://a0.muscache.com/im/pictures/72208dad-9...  94117.0      2.0   2.0  \n",
              "4                                                NaN    20009      0.0   1.0  \n",
              "\n",
              "[5 rows x 29 columns]"
            ],
            "text/html": [
              "\n",
              "  <div id=\"df-911bbc0a-2807-4e2e-9552-3cd1d94a53cc\">\n",
              "    <div class=\"colab-df-container\">\n",
              "      <div>\n",
              "<style scoped>\n",
              "    .dataframe tbody tr th:only-of-type {\n",
              "        vertical-align: middle;\n",
              "    }\n",
              "\n",
              "    .dataframe tbody tr th {\n",
              "        vertical-align: top;\n",
              "    }\n",
              "\n",
              "    .dataframe thead th {\n",
              "        text-align: right;\n",
              "    }\n",
              "</style>\n",
              "<table border=\"1\" class=\"dataframe\">\n",
              "  <thead>\n",
              "    <tr style=\"text-align: right;\">\n",
              "      <th></th>\n",
              "      <th>id</th>\n",
              "      <th>log_price</th>\n",
              "      <th>property_type</th>\n",
              "      <th>room_type</th>\n",
              "      <th>amenities</th>\n",
              "      <th>accommodates</th>\n",
              "      <th>bathrooms</th>\n",
              "      <th>bed_type</th>\n",
              "      <th>cancellation_policy</th>\n",
              "      <th>cleaning_fee</th>\n",
              "      <th>...</th>\n",
              "      <th>latitude</th>\n",
              "      <th>longitude</th>\n",
              "      <th>name</th>\n",
              "      <th>neighbourhood</th>\n",
              "      <th>number_of_reviews</th>\n",
              "      <th>review_scores_rating</th>\n",
              "      <th>thumbnail_url</th>\n",
              "      <th>zipcode</th>\n",
              "      <th>bedrooms</th>\n",
              "      <th>beds</th>\n",
              "    </tr>\n",
              "  </thead>\n",
              "  <tbody>\n",
              "    <tr>\n",
              "      <th>0</th>\n",
              "      <td>6901257</td>\n",
              "      <td>5.010635</td>\n",
              "      <td>Apartment</td>\n",
              "      <td>Entire home/apt</td>\n",
              "      <td>{\"Wireless Internet\",\"Air conditioning\",Kitche...</td>\n",
              "      <td>3</td>\n",
              "      <td>1.0</td>\n",
              "      <td>Real Bed</td>\n",
              "      <td>strict</td>\n",
              "      <td>True</td>\n",
              "      <td>...</td>\n",
              "      <td>40.696524</td>\n",
              "      <td>-73.991617</td>\n",
              "      <td>Beautiful brownstone 1-bedroom</td>\n",
              "      <td>Brooklyn Heights</td>\n",
              "      <td>2</td>\n",
              "      <td>100.0</td>\n",
              "      <td>https://a0.muscache.com/im/pictures/6d7cbbf7-c...</td>\n",
              "      <td>11201</td>\n",
              "      <td>1.0</td>\n",
              "      <td>1.0</td>\n",
              "    </tr>\n",
              "    <tr>\n",
              "      <th>1</th>\n",
              "      <td>6304928</td>\n",
              "      <td>5.129899</td>\n",
              "      <td>Apartment</td>\n",
              "      <td>Entire home/apt</td>\n",
              "      <td>{\"Wireless Internet\",\"Air conditioning\",Kitche...</td>\n",
              "      <td>7</td>\n",
              "      <td>1.0</td>\n",
              "      <td>Real Bed</td>\n",
              "      <td>strict</td>\n",
              "      <td>True</td>\n",
              "      <td>...</td>\n",
              "      <td>40.766115</td>\n",
              "      <td>-73.989040</td>\n",
              "      <td>Superb 3BR Apt Located Near Times Square</td>\n",
              "      <td>Hell's Kitchen</td>\n",
              "      <td>6</td>\n",
              "      <td>93.0</td>\n",
              "      <td>https://a0.muscache.com/im/pictures/348a55fe-4...</td>\n",
              "      <td>10019</td>\n",
              "      <td>3.0</td>\n",
              "      <td>3.0</td>\n",
              "    </tr>\n",
              "    <tr>\n",
              "      <th>2</th>\n",
              "      <td>7919400</td>\n",
              "      <td>4.976734</td>\n",
              "      <td>Apartment</td>\n",
              "      <td>Entire home/apt</td>\n",
              "      <td>{TV,\"Cable TV\",\"Wireless Internet\",\"Air condit...</td>\n",
              "      <td>5</td>\n",
              "      <td>1.0</td>\n",
              "      <td>Real Bed</td>\n",
              "      <td>moderate</td>\n",
              "      <td>True</td>\n",
              "      <td>...</td>\n",
              "      <td>40.808110</td>\n",
              "      <td>-73.943756</td>\n",
              "      <td>The Garden Oasis</td>\n",
              "      <td>Harlem</td>\n",
              "      <td>10</td>\n",
              "      <td>92.0</td>\n",
              "      <td>https://a0.muscache.com/im/pictures/6fae5362-9...</td>\n",
              "      <td>10027</td>\n",
              "      <td>1.0</td>\n",
              "      <td>3.0</td>\n",
              "    </tr>\n",
              "    <tr>\n",
              "      <th>3</th>\n",
              "      <td>13418779</td>\n",
              "      <td>6.620073</td>\n",
              "      <td>House</td>\n",
              "      <td>Entire home/apt</td>\n",
              "      <td>{TV,\"Cable TV\",Internet,\"Wireless Internet\",Ki...</td>\n",
              "      <td>4</td>\n",
              "      <td>1.0</td>\n",
              "      <td>Real Bed</td>\n",
              "      <td>flexible</td>\n",
              "      <td>True</td>\n",
              "      <td>...</td>\n",
              "      <td>37.772004</td>\n",
              "      <td>-122.431619</td>\n",
              "      <td>Beautiful Flat in the Heart of SF!</td>\n",
              "      <td>Lower Haight</td>\n",
              "      <td>0</td>\n",
              "      <td>NaN</td>\n",
              "      <td>https://a0.muscache.com/im/pictures/72208dad-9...</td>\n",
              "      <td>94117.0</td>\n",
              "      <td>2.0</td>\n",
              "      <td>2.0</td>\n",
              "    </tr>\n",
              "    <tr>\n",
              "      <th>4</th>\n",
              "      <td>3808709</td>\n",
              "      <td>4.744932</td>\n",
              "      <td>Apartment</td>\n",
              "      <td>Entire home/apt</td>\n",
              "      <td>{TV,Internet,\"Wireless Internet\",\"Air conditio...</td>\n",
              "      <td>2</td>\n",
              "      <td>1.0</td>\n",
              "      <td>Real Bed</td>\n",
              "      <td>moderate</td>\n",
              "      <td>True</td>\n",
              "      <td>...</td>\n",
              "      <td>38.925627</td>\n",
              "      <td>-77.034596</td>\n",
              "      <td>Great studio in midtown DC</td>\n",
              "      <td>Columbia Heights</td>\n",
              "      <td>4</td>\n",
              "      <td>40.0</td>\n",
              "      <td>NaN</td>\n",
              "      <td>20009</td>\n",
              "      <td>0.0</td>\n",
              "      <td>1.0</td>\n",
              "    </tr>\n",
              "  </tbody>\n",
              "</table>\n",
              "<p>5 rows × 29 columns</p>\n",
              "</div>\n",
              "      <button class=\"colab-df-convert\" onclick=\"convertToInteractive('df-911bbc0a-2807-4e2e-9552-3cd1d94a53cc')\"\n",
              "              title=\"Convert this dataframe to an interactive table.\"\n",
              "              style=\"display:none;\">\n",
              "        \n",
              "  <svg xmlns=\"http://www.w3.org/2000/svg\" height=\"24px\"viewBox=\"0 0 24 24\"\n",
              "       width=\"24px\">\n",
              "    <path d=\"M0 0h24v24H0V0z\" fill=\"none\"/>\n",
              "    <path d=\"M18.56 5.44l.94 2.06.94-2.06 2.06-.94-2.06-.94-.94-2.06-.94 2.06-2.06.94zm-11 1L8.5 8.5l.94-2.06 2.06-.94-2.06-.94L8.5 2.5l-.94 2.06-2.06.94zm10 10l.94 2.06.94-2.06 2.06-.94-2.06-.94-.94-2.06-.94 2.06-2.06.94z\"/><path d=\"M17.41 7.96l-1.37-1.37c-.4-.4-.92-.59-1.43-.59-.52 0-1.04.2-1.43.59L10.3 9.45l-7.72 7.72c-.78.78-.78 2.05 0 2.83L4 21.41c.39.39.9.59 1.41.59.51 0 1.02-.2 1.41-.59l7.78-7.78 2.81-2.81c.8-.78.8-2.07 0-2.86zM5.41 20L4 18.59l7.72-7.72 1.47 1.35L5.41 20z\"/>\n",
              "  </svg>\n",
              "      </button>\n",
              "      \n",
              "  <style>\n",
              "    .colab-df-container {\n",
              "      display:flex;\n",
              "      flex-wrap:wrap;\n",
              "      gap: 12px;\n",
              "    }\n",
              "\n",
              "    .colab-df-convert {\n",
              "      background-color: #E8F0FE;\n",
              "      border: none;\n",
              "      border-radius: 50%;\n",
              "      cursor: pointer;\n",
              "      display: none;\n",
              "      fill: #1967D2;\n",
              "      height: 32px;\n",
              "      padding: 0 0 0 0;\n",
              "      width: 32px;\n",
              "    }\n",
              "\n",
              "    .colab-df-convert:hover {\n",
              "      background-color: #E2EBFA;\n",
              "      box-shadow: 0px 1px 2px rgba(60, 64, 67, 0.3), 0px 1px 3px 1px rgba(60, 64, 67, 0.15);\n",
              "      fill: #174EA6;\n",
              "    }\n",
              "\n",
              "    [theme=dark] .colab-df-convert {\n",
              "      background-color: #3B4455;\n",
              "      fill: #D2E3FC;\n",
              "    }\n",
              "\n",
              "    [theme=dark] .colab-df-convert:hover {\n",
              "      background-color: #434B5C;\n",
              "      box-shadow: 0px 1px 3px 1px rgba(0, 0, 0, 0.15);\n",
              "      filter: drop-shadow(0px 1px 2px rgba(0, 0, 0, 0.3));\n",
              "      fill: #FFFFFF;\n",
              "    }\n",
              "  </style>\n",
              "\n",
              "      <script>\n",
              "        const buttonEl =\n",
              "          document.querySelector('#df-911bbc0a-2807-4e2e-9552-3cd1d94a53cc button.colab-df-convert');\n",
              "        buttonEl.style.display =\n",
              "          google.colab.kernel.accessAllowed ? 'block' : 'none';\n",
              "\n",
              "        async function convertToInteractive(key) {\n",
              "          const element = document.querySelector('#df-911bbc0a-2807-4e2e-9552-3cd1d94a53cc');\n",
              "          const dataTable =\n",
              "            await google.colab.kernel.invokeFunction('convertToInteractive',\n",
              "                                                     [key], {});\n",
              "          if (!dataTable) return;\n",
              "\n",
              "          const docLinkHtml = 'Like what you see? Visit the ' +\n",
              "            '<a target=\"_blank\" href=https://colab.research.google.com/notebooks/data_table.ipynb>data table notebook</a>'\n",
              "            + ' to learn more about interactive tables.';\n",
              "          element.innerHTML = '';\n",
              "          dataTable['output_type'] = 'display_data';\n",
              "          await google.colab.output.renderOutput(dataTable, element);\n",
              "          const docLink = document.createElement('div');\n",
              "          docLink.innerHTML = docLinkHtml;\n",
              "          element.appendChild(docLink);\n",
              "        }\n",
              "      </script>\n",
              "    </div>\n",
              "  </div>\n",
              "  "
            ]
          },
          "metadata": {},
          "execution_count": 18
        }
      ]
    },
    {
      "cell_type": "code",
      "source": [
        "dataset.columns"
      ],
      "metadata": {
        "id": "dn-ddFkTTI9y",
        "colab": {
          "base_uri": "https://localhost:8080/"
        },
        "outputId": "d133969c-f8f0-4947-baa1-b3dddc57d14a"
      },
      "execution_count": 19,
      "outputs": [
        {
          "output_type": "execute_result",
          "data": {
            "text/plain": [
              "Index(['id', 'log_price', 'property_type', 'room_type', 'amenities',\n",
              "       'accommodates', 'bathrooms', 'bed_type', 'cancellation_policy',\n",
              "       'cleaning_fee', 'city', 'description', 'first_review',\n",
              "       'host_has_profile_pic', 'host_identity_verified', 'host_response_rate',\n",
              "       'host_since', 'instant_bookable', 'last_review', 'latitude',\n",
              "       'longitude', 'name', 'neighbourhood', 'number_of_reviews',\n",
              "       'review_scores_rating', 'thumbnail_url', 'zipcode', 'bedrooms', 'beds'],\n",
              "      dtype='object')"
            ]
          },
          "metadata": {},
          "execution_count": 19
        }
      ]
    },
    {
      "cell_type": "code",
      "source": [
        "#avoid bias or variance\n",
        "dataset = dataset.sample(frac = 1)"
      ],
      "metadata": {
        "id": "1ZebJlBCvM6T"
      },
      "execution_count": 20,
      "outputs": []
    },
    {
      "cell_type": "code",
      "source": [
        "#visualize the data set\n",
        "#train log_price\n",
        "sns.histplot(data = dataset, x = \"log_price\", binwidth = .5, hue = \"city\")"
      ],
      "metadata": {
        "colab": {
          "base_uri": "https://localhost:8080/",
          "height": 298
        },
        "id": "Nd6xsdsOvl7S",
        "outputId": "626af953-b00b-4301-f923-d2e8a587a001"
      },
      "execution_count": 21,
      "outputs": [
        {
          "output_type": "execute_result",
          "data": {
            "text/plain": [
              "<matplotlib.axes._subplots.AxesSubplot at 0x7ffb0482dc90>"
            ]
          },
          "metadata": {},
          "execution_count": 21
        },
        {
          "output_type": "display_data",
          "data": {
            "text/plain": [
              "<Figure size 432x288 with 1 Axes>"
            ],
            "image/png": "[encoded data removed]"
          },
          "metadata": {
            "needs_background": "light"
          }
        }
      ]
    },
    {
      "cell_type": "code",
      "source": [
        "sns.boxplot(dataset['log_price'])\n",
        "\n",
        "#using the IQR method to find the outliers is commonly used and more trusted.\n",
        "Q1 = np.percentile(dataset['log_price'], 25, interpolation = 'midpoint')\n",
        "Q3 = np.percentile(dataset['log_price'], 75, interpolation = 'midpoint')\n",
        "\n",
        "IQR = Q3 - Q1\n",
        "print(IQR)\n",
        "#round up quartile if decimal: 0.90 = 1"
      ],
      "metadata": {
        "colab": {
          "base_uri": "https://localhost:8080/",
          "height": 354
        },
        "id": "1GQvirCQBizD",
        "outputId": "feeefb38-3a16-4698-a614-4e8080c63667"
      },
      "execution_count": 22,
      "outputs": [
        {
          "output_type": "stream",
          "name": "stdout",
          "text": [
            "0.9028677115420143\n"
          ]
        },
        {
          "output_type": "stream",
          "name": "stderr",
          "text": [
            "/usr/local/lib/python3.7/dist-packages/seaborn/_decorators.py:43: FutureWarning: Pass the following variable as a keyword arg: x. From version 0.12, the only valid positional argument will be `data`, and passing other arguments without an explicit keyword will result in an error or misinterpretation.\n",
            "  FutureWarning\n"
          ]
        },
        {
          "output_type": "display_data",
          "data": {
            "text/plain": [
              "<Figure size 432x288 with 1 Axes>"
            ],
            "image/png": "[encoded data removed]"
          },
          "metadata": {
            "needs_background": "light"
          }
        }
      ]
    },
    {
      "cell_type": "code",
      "source": [
        "#find the attributes\n",
        "#X is independent\n",
        "X = np.array(dataset.drop([\"description\"],1))\n",
        "print(\"Shape of X: \", X.shape)\n",
        "print(X)\n",
        "#y is dependent\n",
        "y = np.array(dataset[\"description\"])\n",
        "print(\"Shape of y: \", y.shape)\n",
        "print(y)"
      ],
      "metadata": {
        "colab": {
          "base_uri": "https://localhost:8080/"
        },
        "id": "Mm6EhOcgyF4-",
        "outputId": "1841259f-e181-4f41-e5c3-1761bc87eb81"
      },
      "execution_count": 23,
      "outputs": [
        {
          "output_type": "stream",
          "name": "stdout",
          "text": [
            "Shape of X:  (74111, 28)\n",
            "[[11069390 4.174387269895637 'Apartment' ... '10035.0' 1.0 1.0]\n",
            " [839019 3.80666248977032 'House' ... '90036' 1.0 1.0]\n",
            " [16338789 4.382026634673881 'Apartment' ... '60614' 2.0 2.0]\n",
            " ...\n",
            " [15771541 4.060443010546419 'Apartment' ... '11221' 1.0 1.0]\n",
            " [7921362 5.220355825078324 'Apartment' ... '10128' 0.0 1.0]\n",
            " [968921 5.298317366548036 'House' ... '91755' 1.0 1.0]]\n",
            "Shape of y:  (74111,)\n",
            "['My place is close to Central Park, 6 Train, Thomas Jefferson Park, Target, Aldi, Costco. You’ll love my place because of the comfy bed, the coziness.'\n",
            " 'The room accommodates access to a wonderful kitchen, huge garden, pool and walking distance to restaurants, shops in the heart of LA.  It is in a private home in one of the best areas in LA. Kitchen, laundry room, pool and wonderful garden. Very well located with free parking on the street. Very close to buses both to downtown as well as to the beach.'\n",
            " 'Private Bedroom in Super Safe Prime Location award winning Lincoln Park right next to the Zoo, Lake, north avenue beach. 5mins to DePaul, 10mins to downtown, 15-20mins to museum campus and McCormick Place. Only few bucks to Uber everywhere. FREE onsite parking(super rare) and FREE light bk. UNLIMITED coffee, Espresso and Tea~ can sleep up to 4 with real Queen bed and full size floor mat (very firm and comfy!) Cozy and everything you use from the Galleria bed frame , 2000 beauty rest mattress to bed sheets are all premium Kitchen, Balcony, living room, bathroom. Make yourself at home. Full of award wining restaurants and bars. Lots of things to do nearby. Somewhere you can walk around at 3am and feel perfectly safe. Very convenient 5 year old son who goes to school everyday and comeback dinner and bed time around 8ish.'\n",
            " ...\n",
            " \"Quiet, sunny and Close to the train! Brand new modern apartment, charmingly artist decorated. You will feel right at home. Exposed brick living room and new kitchen. Central AC and heating. In the heart of Bushwick - Brooklyn's best neighbourhood! (it's the new williamsburg) ALL are welcome here :) The neighbourhood is diverse, lively and has everything you need. Great food, bars, cafés, vintage stores and good vibes all around. Short walk to the train! 5 minutes to one subway stop and 8 minutes to another. Well served by local buses too! If you're feeling adventurous you can rent a citibike for $12 a day. 30 minute drive from Laguardia and JFK Airports. (1 or 1.5 hours by train)\"\n",
            " \"Cozy, comfortable and fully furnished studio apartment for max. 3 guests! Sofa opens into a bed. Blocks from train station 4/5/6, Whole Foods, Key Foods and Gristedes close by. MET/Guggenheim/Central Park 10 min walking. Great bars and rest. Wifi Make this your home for the holiday - Fully furnished with complete set of utilities, microwave, oven, several pans pots, dishes, glasses...everything. Comfortable bed, clean sheets and towels, body lotions. Friendly, helpful and communicative host! 3rd floor in a walk up building. Ideal for a couple, small family, or friends.  Explore NYC like a REAL New Yorker by staying in this charming apt in the Upper East Side. Please DO NOT 'BOOK NOW' until we have communicated and confirmed availability. You can use the entire apartment. Help yourselves to the tea and coffee sets in the apt. If I am not here to check you in and happen to be away, my friend will greet you at the apt and give you keys.  Please contact me at least two days prior to your a\"\n",
            " \"You don't want to miss a place with hotel-class environment, close reach to all kinds of facilities and cozy atmosphere that you can call home. excellent choice for food-lovers, travelers and others who are just tired of the hotels (Like me).\"]\n"
          ]
        },
        {
          "output_type": "stream",
          "name": "stderr",
          "text": [
            "/usr/local/lib/python3.7/dist-packages/ipykernel_launcher.py:3: FutureWarning: In a future version of pandas all arguments of DataFrame.drop except for the argument 'labels' will be keyword-only\n",
            "  This is separate from the ipykernel package so we can avoid doing imports until\n"
          ]
        }
      ]
    },
    {
      "cell_type": "code",
      "source": [
        "#Splitting\n",
        "n_train = math.floor(0.8 * X.shape[0])\n",
        "n_test = math.ceil((1 - 0.8)* X.shape[0])\n",
        "\n",
        "X_train = X[:n_train]\n",
        "y_train = y[:n_train]\n",
        "X_test = X[n_train:]\n",
        "y_test = y[n_train:]\n",
        "\n",
        "print(\"Total number of rows in train: \", X_train.shape[0])\n",
        "print(\"Total number of rows in test: \", X_test.shape[0])"
      ],
      "metadata": {
        "colab": {
          "base_uri": "https://localhost:8080/"
        },
        "id": "nWYhcYec0Lwe",
        "outputId": "07572256-3f8d-4788-bf0c-2071c2efe9df"
      },
      "execution_count": 24,
      "outputs": [
        {
          "output_type": "stream",
          "name": "stdout",
          "text": [
            "Total number of rows in train:  59288\n",
            "Total number of rows in test:  14823\n"
          ]
        }
      ]
    },
    {
      "cell_type": "code",
      "source": [
        "#fit a model\n"
      ],
      "metadata": {
        "id": "ZswQhiDao_25"
      },
      "execution_count": null,
      "outputs": []
    },
    {
      "cell_type": "code",
      "source": [
        "#try to print a graph here"
      ],
      "metadata": {
        "id": "tZIp44Nhlfcy"
      },
      "execution_count": 40,
      "outputs": []
    },
    {
      "cell_type": "code",
      "source": [
        "#Coding the linear regression class\n",
        "class linearRegression():\n",
        "  def __init__(self):    #creates new object when class is called\n",
        "    #no instance is required\n",
        "    pass\n",
        "\n",
        "  def forward(self, X, y , W):\n",
        "    \"\"\"\n",
        "    Parameters:\n",
        "    X - independent\n",
        "    y - dependent/target\n",
        "    W - Wights\n",
        "\n",
        "    Returns:\n",
        "    loss - calculate sqaured erroe loss for y and y_pred\n",
        "    y_pred - predicted target variable\n",
        "    \"\"\"\n",
        "  y_pred = sum(W * X)\n",
        "  loss = ((y_pred - y) ** 2) / 2\n",
        "\n",
        "    \n"
      ],
      "metadata": {
        "id": "q8IY9Ih1nhRs",
        "colab": {
          "base_uri": "https://localhost:8080/",
          "height": 366
        },
        "outputId": "ebe53920-0f6b-4a4f-bed8-e52e4e3ec90f"
      },
      "execution_count": 41,
      "outputs": [
        {
          "output_type": "error",
          "ename": "NameError",
          "evalue": "ignored",
          "traceback": [
            "\u001b[0;31m---------------------------------------------------------------------------\u001b[0m",
            "\u001b[0;31mNameError\u001b[0m                                 Traceback (most recent call last)",
            "\u001b[0;32m<ipython-input-41-29af8338aecc>\u001b[0m in \u001b[0;36m<module>\u001b[0;34m\u001b[0m\n\u001b[1;32m      1\u001b[0m \u001b[0;31m#Coding the linear regression class\u001b[0m\u001b[0;34m\u001b[0m\u001b[0;34m\u001b[0m\u001b[0;34m\u001b[0m\u001b[0m\n\u001b[0;32m----> 2\u001b[0;31m \u001b[0;32mclass\u001b[0m \u001b[0mlinearRegression\u001b[0m\u001b[0;34m(\u001b[0m\u001b[0;34m)\u001b[0m\u001b[0;34m:\u001b[0m\u001b[0;34m\u001b[0m\u001b[0;34m\u001b[0m\u001b[0m\n\u001b[0m\u001b[1;32m      3\u001b[0m   \u001b[0;32mdef\u001b[0m \u001b[0m__init__\u001b[0m\u001b[0;34m(\u001b[0m\u001b[0mself\u001b[0m\u001b[0;34m)\u001b[0m\u001b[0;34m:\u001b[0m    \u001b[0;31m#creates new object when class is called\u001b[0m\u001b[0;34m\u001b[0m\u001b[0;34m\u001b[0m\u001b[0m\n\u001b[1;32m      4\u001b[0m     \u001b[0;31m#no instance is required\u001b[0m\u001b[0;34m\u001b[0m\u001b[0;34m\u001b[0m\u001b[0;34m\u001b[0m\u001b[0m\n\u001b[1;32m      5\u001b[0m     \u001b[0;32mpass\u001b[0m\u001b[0;34m\u001b[0m\u001b[0;34m\u001b[0m\u001b[0m\n",
            "\u001b[0;32m<ipython-input-41-29af8338aecc>\u001b[0m in \u001b[0;36mlinearRegression\u001b[0;34m()\u001b[0m\n\u001b[1;32m     16\u001b[0m     \u001b[0my_pred\u001b[0m \u001b[0;34m-\u001b[0m \u001b[0mpredicted\u001b[0m \u001b[0mtarget\u001b[0m \u001b[0mvariable\u001b[0m\u001b[0;34m\u001b[0m\u001b[0;34m\u001b[0m\u001b[0m\n\u001b[1;32m     17\u001b[0m     \"\"\"\n\u001b[0;32m---> 18\u001b[0;31m   \u001b[0my_pred\u001b[0m \u001b[0;34m=\u001b[0m \u001b[0msum\u001b[0m\u001b[0;34m(\u001b[0m\u001b[0mW\u001b[0m \u001b[0;34m*\u001b[0m \u001b[0mX\u001b[0m\u001b[0;34m)\u001b[0m\u001b[0;34m\u001b[0m\u001b[0;34m\u001b[0m\u001b[0m\n\u001b[0m\u001b[1;32m     19\u001b[0m   \u001b[0mloss\u001b[0m \u001b[0;34m=\u001b[0m \u001b[0;34m(\u001b[0m\u001b[0;34m(\u001b[0m\u001b[0my_pred\u001b[0m \u001b[0;34m-\u001b[0m \u001b[0my\u001b[0m\u001b[0;34m)\u001b[0m \u001b[0;34m**\u001b[0m \u001b[0;36m2\u001b[0m\u001b[0;34m)\u001b[0m \u001b[0;34m/\u001b[0m \u001b[0;36m2\u001b[0m\u001b[0;34m\u001b[0m\u001b[0;34m\u001b[0m\u001b[0m\n\u001b[1;32m     20\u001b[0m \u001b[0;34m\u001b[0m\u001b[0m\n",
            "\u001b[0;31mNameError\u001b[0m: name 'W' is not defined"
          ]
        }
      ]
    }
  ]
}